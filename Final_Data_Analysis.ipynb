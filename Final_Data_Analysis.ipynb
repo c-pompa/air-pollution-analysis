{
 "cells": [
  {
   "cell_type": "markdown",
   "metadata": {},
   "source": [
    "# **Final Data Analysis - Air Pollution**\n",
    "**Team: Magical Ligers**"
   ]
  },
  {
   "cell_type": "markdown",
   "metadata": {},
   "source": [
    "**Motivation for Questions & Objective**<br>\n",
    "Team Magical Ligers set out to explore pollution measurements and dissect data to answer the questions we collectively discussed. Los Angeles has always been surround by smog. We were curious about the air quality standards in LA and around the United States. Does the United States population care, or aware of what is considered good and moderate air quality? Will EV cars help with pollution? Lastly, the recent Covid pandemic led us to realize air pollution has cleared due to quarantine. When the quarantine is lifted, should we continue to wear masks?<br>\n",
    "<br>\n",
    "These topics led us to the following questions: \n",
    "* Should the US start wearing masks after a pandemic?\n",
    "* How long are we living in moderate and good conditions for air quality?\n",
    "* Does it really matter to the US population? \n",
    "* What is causing the air pollution? \n",
    "* Which region contributes to air pollution?\n",
    "<br>\n",
    "\n",
    "We researched multiple cities around the United States as well as focused on the top 5 cities by population: Los Angeles, San Francisco, Houston, New York and Chicago.\n",
    "\n",
    "This notebook will provide a summary of our findings for each question asked. "
   ]
  },
  {
   "cell_type": "markdown",
   "metadata": {},
   "source": [
    "## Where to find our data"
   ]
  },
  {
   "cell_type": "markdown",
   "metadata": {},
   "source": [
    "**Folder locations of data:**\n",
    "\n",
    "| Description | Location of data (folder) |\n",
    "| ----------- | ----------- |\n",
    "| Population / Location Notebooks & Datasets | Population_Location_notebooks |\n",
    "| Twitter | Twitter_notebooks |\n",
    "| Annual, Seasonal, Time | annual_seasonal_notebooks |\n",
    "| Vehicle combustion Engine | vehicle_analysis_notebooks |"
   ]
  },
  {
   "cell_type": "markdown",
   "metadata": {},
   "source": [
    "## **Key research to conclude our analysis**"
   ]
  },
  {
   "cell_type": "markdown",
   "metadata": {},
   "source": [
    "### **Question**: \n",
    "### Should the US start wearing masks after a pandemic? \n",
    "* **If you live in moderate air quality for more than quarter of the year,and/or have respitory issues, you should wear a mask.**\n",
    "\n",
    "### How long are we living in moderate and good conditions for air quality?"
   ]
  },
  {
   "cell_type": "markdown",
   "metadata": {},
   "source": [
    "Los Angeles had progressively worst air pollution years where moderate air quality measurements went from 29% - 35%. All datasets included measurements by the hour, per day, for a year. Certain data may have a time frame range from 8am - 10pm instead of all 24 hours."
   ]
  },
  {
   "cell_type": "markdown",
   "metadata": {},
   "source": [
    "**2019 - Los Angeles**<br>\n",
    "<img src=\"./annual_seasonal_notebooks/images/LA_Annual_TimeInPollution_bar.png\" alt=\"laair\"\n",
    "title=\"LA Air\" width=\"500\" height=\"300\" /> "
   ]
  },
  {
   "cell_type": "markdown",
   "metadata": {},
   "source": [
    "**2018 - Los Angeles**<br>\n",
    "<img src=\"./annual_seasonal_notebooks/images/LA_2018_Annual_TimeInPollution_bar.png\" alt=\"laair2\"\n",
    "title=\"LA Air2\" width=\"500\" height=\"300\" />"
   ]
  },
  {
   "cell_type": "markdown",
   "metadata": {},
   "source": [
    "in comparison to other cities annually"
   ]
  },
  {
   "cell_type": "markdown",
   "metadata": {},
   "source": [
    "**2019 - San Francisco, CA**<br>\n",
    "<img src=\"./annual_seasonal_notebooks/images/SF_Annual_TimeInPollution_bar.png\" alt=\"laair2\"\n",
    "title=\"LA Air2\" width=\"500\" height=\"300\" />"
   ]
  },
  {
   "cell_type": "markdown",
   "metadata": {},
   "source": [
    "**2019 - New York City, NY**<br>\n",
    "<img src=\"./annual_seasonal_notebooks/images/NY_Annual_TimeInPollution_bar.png\" alt=\"laair2\"\n",
    "title=\"LA Air2\" width=\"500\" height=\"300\" />"
   ]
  },
  {
   "cell_type": "markdown",
   "metadata": {},
   "source": [
    "**2019 - Houston, TX**<br>\n",
    "<img src=\"./annual_seasonal_notebooks/images/TX_Annual_TimeInPollution_bar.png\" alt=\"laair2\"\n",
    "title=\"LA Air2\" width=\"500\" height=\"300\" />"
   ]
  },
  {
   "cell_type": "markdown",
   "metadata": {},
   "source": [
    "**2019 - Chicago, IL**<br>\n",
    "<img src=\"./annual_seasonal_notebooks/images/ILL_Annual_TimeInPollution_bar.png\" alt=\"laair2\"\n",
    "title=\"LA Air2\" width=\"500\" height=\"300\" />"
   ]
  },
  {
   "cell_type": "code",
   "execution_count": null,
   "metadata": {},
   "outputs": [],
   "source": []
  }
 ],
 "metadata": {
  "kernelspec": {
   "display_name": "Python 3",
   "language": "python",
   "name": "python3"
  },
  "language_info": {
   "codemirror_mode": {
    "name": "ipython",
    "version": 3
   },
   "file_extension": ".py",
   "mimetype": "text/x-python",
   "name": "python",
   "nbconvert_exporter": "python",
   "pygments_lexer": "ipython3",
   "version": "3.7.4"
  }
 },
 "nbformat": 4,
 "nbformat_minor": 4
}
