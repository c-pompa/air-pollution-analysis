{
 "cells": [
  {
   "cell_type": "markdown",
   "metadata": {},
   "source": [
    "## Summary: Air Pollution\n",
    "Team Ligers summarizes their findings about the questions we asked regarding Air Pollution. "
   ]
  },
  {
   "cell_type": "markdown",
   "metadata": {},
   "source": [
    "## Table of Contents\n",
    "* [Motivation for Questions & Objective](#motivation)<br>\n",
    "\n",
    "Questions asked:\n",
    "* [Should the US Start wearing masks? How Much time are we spending in good air?](#masks)\n",
    "    * [What are our standards?](#standards)\n",
    "    * [Percentage Annually we live in Neutral/Good air?](#annualair)\n",
    "    * [How bad is bad?](#howbad)\n",
    "    \n",
    "\n",
    "* [Summary](#sum)"
   ]
  },
  {
   "cell_type": "markdown",
   "metadata": {},
   "source": [
    "<a id='motivation'></a>"
   ]
  },
  {
   "cell_type": "markdown",
   "metadata": {},
   "source": [
    "**Motivation for Questions & Objective**<br>\n",
    "Team Magical Ligers set out to explore pollution measurements and dissect data to answer the questions we collectively discussed. Los Angeles has always been surround by smog. We were curious about the air quality standards in LA and around the United States. Does the United States population care, or aware of what is considered good and moderate air quality? Will EV cars help with pollution? Lastly, the recent Covid pandemic led us to realize air pollution has cleared due to quarantine. When the quarantine is lifted, should we continue to wear masks?<br>\n",
    "<br>\n",
    "These topics led us to the following questions: \n",
    "* Should the US start wearing masks after a pandemic?\n",
    "* How long are we living in moderate and good conditions for air quality?\n",
    "* Does it really matter to the US population? \n",
    "* What is causing the air pollution? \n",
    "<br>\n",
    "\n",
    "This notebook will provide a summary of our findings for each question asked. "
   ]
  },
  {
   "cell_type": "markdown",
   "metadata": {},
   "source": [
    "<a id='masks'></a>"
   ]
  },
  {
   "cell_type": "markdown",
   "metadata": {},
   "source": [
    "### **Should the US start wearing masks after the pandemic? How much time are we spending in good and moderate air quality?**\n",
    "\n",
    "This question involves us looking into changing americans perspective on wearing mask regularly. Which we asked the following:\n",
    "\n",
    "* What our standards are for air quality?\n",
    "* Percentage Annually we live in neutral/good air?\n",
    "* How bad is bad?"
   ]
  },
  {
   "cell_type": "markdown",
   "metadata": {},
   "source": [
    "<a id='standards'></a>"
   ]
  },
  {
   "cell_type": "markdown",
   "metadata": {},
   "source": [
    "**What our standards are for air quality?**<br>\n",
    "Particulate Matter 2.5 (PM 2.5) refers to tiny particles or droplets in the air that are two and one half micron or less in width. Micron is a unit of measurement for distance. There are 25,000 microns in an inch. (health.ny.gov) The Environment Protection Agency (EPA) classifies measurement samples between 0 - 12.0 as Good air quality. Measurements between 12.1 - 35.4 is Moderate. 35.5 - 55.4 as Unhealthy for Sensitive Groups and 55+ Unhealthy. Masks such as the N95 mask are meant to block 95%-99% of particulate matter 2.5.\n"
   ]
  },
  {
   "cell_type": "markdown",
   "metadata": {},
   "source": [
    "<a id='annualair'></a>"
   ]
  },
  {
   "cell_type": "markdown",
   "metadata": {},
   "source": [
    "**Basic Trend of the Air Quality (Population)**<br>\n",
    "Air quality was reviewed for mutliple cities within U.S. to see if population has a great factor in pollution of air. Looking at the plot, population alone did not seem to be a major contributing factor. When multiple cities were involved, correlation did not exists, but as when each county was evaluated, correlation was foound. It seems as when all the conditions were similar in the area, population played a role in quality of air. \n",
    "\n"
   ]
  },
  {
   "cell_type": "markdown",
   "metadata": {},
   "source": [
    "<img src=\"./Population_Location _notebooks/plot/total_city.png\" alt=\"laairall\"\n",
    "     width=\"1900\" height=\"600\">\n",
    "     \n",
    "<img src=\"./Population_Location _notebooks/plot/county.png\" alt=\"laairall\"\n",
    "width=\"500\" height=\"200\">"
   ]
  },
  {
   "cell_type": "markdown",
   "metadata": {},
   "source": [
    "**Basic Trend of the Air Quality (Location)**<br>\n",
    "Location was also looked to see if it showed any trend. Assumption was that the air flow path can greatly affect the air quality. However, bar plot shows different story. X axis shows state ranging from west to east from left to right and no clear pattern can be shown. Hence, location does not seem to be a major factor either"
   ]
  },
  {
   "cell_type": "markdown",
   "metadata": {},
   "source": [
    "<img src=\"./Population_Location _notebooks/plot/state.png\" alt=\"laairall\"\n",
    "width=\"500\" height=\"200\">"
   ]
  },
  {
   "cell_type": "markdown",
   "metadata": {},
   "source": [
    "**Percentage Annually we live in neutral/good air?**<br>\n",
    "Los Angeles, California reports the worst air quality our of the top 5 most populated cities in the United States for 2019. Los Angeles residents spent 64% of the time in Good air quality, 35% in Moderate, and 1% in Unhealthy in 2019. "
   ]
  },
  {
   "cell_type": "markdown",
   "metadata": {},
   "source": [
    "<img src=\"./annual_seasonal_notebooks/images/LA_Annual_TimeInPollution_bar.png\" alt=\"laair\"\n",
    "title=\"LA Air\" width=\"500\" height=\"300\" /> \n",
    "\n",
    "##### More cities with this data formatting can be found under the 'annual_seasonal_notesbooks' folder. Notebooks labeled by state_city_type, ex: 'CA_LA_Annual_Hourly_Air_analysis'. The same applies for all images shown."
   ]
  },
  {
   "cell_type": "markdown",
   "metadata": {},
   "source": [
    "A higher level overview in reference to the chart above displays all 41,824 measurements below. After the fourth of July, Los Angeles experienced its worst air quality during the second half of the year. "
   ]
  },
  {
   "cell_type": "markdown",
   "metadata": {},
   "source": [
    "<img src=\"./annual_seasonal_notebooks/images/LA_Annual_pm25_scatter.png\" alt=\"laairall\"\n",
    "title=\"LA Air all\" width=\"700\" height=\"600\" />"
   ]
  },
  {
   "cell_type": "markdown",
   "metadata": {},
   "source": [
    "Looking closer to the Fall season (September - November), we can see the average PM 2.5 measurement per air data site. The measurements are above within Moderate levels as a standard. Additional, more 'outliers' can be seen. After research, fall in Los Angeles experiences fires which lasted weeks. The fires affected all locations where air quality meters were located. Air pollution was registered and displayed in the box plot below. Lebec, CA did not have data. <br>\n",
    "<img src=\"./annual_seasonal_notebooks/images/LA_fall_pm25_BoxPlot.png\" alt=\"laair\"\n",
    "title=\"LA Air\" width=\"500\" height=\"700\" />"
   ]
  },
  {
   "cell_type": "markdown",
   "metadata": {},
   "source": [
    "<a id='howbad'></a>"
   ]
  },
  {
   "cell_type": "markdown",
   "metadata": {},
   "source": [
    "**How bad is bad?**<br>\n",
    "For comparison, we researched 4 other major cities including New York, NY, Austin, TX, Chicago, Illinois, and San Francisco, CA. Los Angeles was the worst representing the lowest amount of time spend in Good air quality measures.  New York County and Houston, TX both reported better annual PM2.5 measurements. New York at 83% Good and Houston at 82% Good."
   ]
  },
  {
   "cell_type": "markdown",
   "metadata": {},
   "source": [
    "<img src=\"./annual_seasonal_notebooks/images/NY_Annual_TimeInPollution_bar.png\" alt=\"nyair\"\n",
    "title=\"nyair\" width=\"500\" height=\"300\"/> <img src=\"./annual_seasonal_notebooks/images/TX_Annual_TimeInPollution_bar.png\" alt=\"nyair\"\n",
    "title=\"nyair\" width=\"500\" height=\"300\" />"
   ]
  },
  {
   "cell_type": "code",
   "execution_count": null,
   "metadata": {},
   "outputs": [],
   "source": []
  },
  {
   "cell_type": "markdown",
   "metadata": {},
   "source": [
    "<a id='sum'></a>"
   ]
  },
  {
   "cell_type": "markdown",
   "metadata": {},
   "source": [
    "**Summary**<br>\n",
    "Annual and Seasonal datasets with higher population involve higher air pollution measurements. Of the top 5 most populated cities, 3 have moderate air pollution levels a quarter of the year. Moderate levels emphasize 'people with respiratory or heart disease, the elderly and children should limit prolong exertion.' <br><br>\n",
    "In this case, Los Angeles is our focus due to location of the report. Los Angeles air pollution is negatively impacted by multiple factors. Automobile and weather pollution contribute to the consistently moderate air quality the population of Los Angeles has grown accustom to. As air pollution continues to live with us, it is recommended to wear a mask when outdoors in major populated areas.<br>"
   ]
  },
  {
   "cell_type": "code",
   "execution_count": null,
   "metadata": {},
   "outputs": [],
   "source": []
  }
 ],
 "metadata": {
  "kernelspec": {
   "display_name": "Python 3",
   "language": "python",
   "name": "python3"
  },
  "language_info": {
   "codemirror_mode": {
    "name": "ipython",
    "version": 3
   },
   "file_extension": ".py",
   "mimetype": "text/x-python",
   "name": "python",
   "nbconvert_exporter": "python",
   "pygments_lexer": "ipython3",
   "version": "3.7.7"
  }
 },
 "nbformat": 4,
 "nbformat_minor": 4
}
