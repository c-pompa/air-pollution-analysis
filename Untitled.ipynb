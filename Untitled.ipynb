{
 "cells": [
  {
   "cell_type": "code",
   "execution_count": 1,
   "metadata": {},
   "outputs": [],
   "source": [
    "# Dependencies and Setup\n",
    "import matplotlib.pyplot as plt\n",
    "import pandas as pd\n",
    "import numpy as np\n",
    "from pprint import pprint\n",
    "import requests\n",
    "import json\n",
    "import copy\n",
    "from typing import List\n",
    "from urllib.request import urlretrieve\n",
    "from urllib.parse import quote\n",
    "import csv\n",
    "import gmaps\n",
    "import os\n",
    "from config import g_key\n",
    "# Access maps with unique API key\n",
    "gmaps.configure(api_key=g_key)\n",
    "\n",
    "# Import API key\n",
    "from config import key\n",
    "from config import email_key"
   ]
  },
  {
   "cell_type": "code",
   "execution_count": 2,
   "metadata": {},
   "outputs": [],
   "source": [
    "# Import from .CSV\n",
    "texas = pd.read_csv(\"./csv_data/texas_houston_data.csv\") "
   ]
  },
  {
   "cell_type": "code",
   "execution_count": 3,
   "metadata": {},
   "outputs": [
    {
     "data": {
      "text/html": [
       "<div>\n",
       "<style scoped>\n",
       "    .dataframe tbody tr th:only-of-type {\n",
       "        vertical-align: middle;\n",
       "    }\n",
       "\n",
       "    .dataframe tbody tr th {\n",
       "        vertical-align: top;\n",
       "    }\n",
       "\n",
       "    .dataframe thead th {\n",
       "        text-align: right;\n",
       "    }\n",
       "</style>\n",
       "<table border=\"1\" class=\"dataframe\">\n",
       "  <thead>\n",
       "    <tr style=\"text-align: right;\">\n",
       "      <th></th>\n",
       "      <th>state_code</th>\n",
       "      <th>state</th>\n",
       "      <th>county_code</th>\n",
       "      <th>county</th>\n",
       "      <th>site_number</th>\n",
       "      <th>parameter</th>\n",
       "      <th>sample_measurement</th>\n",
       "      <th>units_of_measure</th>\n",
       "      <th>latitude</th>\n",
       "      <th>longitude</th>\n",
       "      <th>date_local</th>\n",
       "      <th>time_local</th>\n",
       "      <th>date_gmt</th>\n",
       "      <th>time_gmt</th>\n",
       "      <th>method_type</th>\n",
       "      <th>method_code</th>\n",
       "      <th>method</th>\n",
       "      <th>date_of_last_change</th>\n",
       "      <th>cbsa_code</th>\n",
       "    </tr>\n",
       "  </thead>\n",
       "  <tbody>\n",
       "  </tbody>\n",
       "</table>\n",
       "</div>"
      ],
      "text/plain": [
       "Empty DataFrame\n",
       "Columns: [state_code, state, county_code, county, site_number, parameter, sample_measurement, units_of_measure, latitude, longitude, date_local, time_local, date_gmt, time_gmt, method_type, method_code, method, date_of_last_change, cbsa_code]\n",
       "Index: []"
      ]
     },
     "execution_count": 3,
     "metadata": {},
     "output_type": "execute_result"
    }
   ],
   "source": [
    "texas"
   ]
  },
  {
   "cell_type": "code",
   "execution_count": null,
   "metadata": {},
   "outputs": [],
   "source": []
  }
 ],
 "metadata": {
  "kernelspec": {
   "display_name": "Python 3",
   "language": "python",
   "name": "python3"
  },
  "language_info": {
   "codemirror_mode": {
    "name": "ipython",
    "version": 3
   },
   "file_extension": ".py",
   "mimetype": "text/x-python",
   "name": "python",
   "nbconvert_exporter": "python",
   "pygments_lexer": "ipython3",
   "version": "3.7.7"
  }
 },
 "nbformat": 4,
 "nbformat_minor": 4
}
