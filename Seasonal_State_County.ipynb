{
 "cells": [
  {
   "cell_type": "markdown",
   "metadata": {},
   "source": [
    "*Spring runs from March 1 to May 31\n",
    "\n",
    "*Summer runs from June 1 to August 31\n",
    "\n",
    "*Fall (autumn) runs from September 1 to November 30\n",
    "\n",
    "*Winter runs from December 1 to February 28 (February 29 in a leap year)."
   ]
  },
  {
   "cell_type": "code",
   "execution_count": 180,
   "metadata": {},
   "outputs": [],
   "source": [
    "%matplotlib inline"
   ]
  },
  {
   "cell_type": "code",
   "execution_count": 558,
   "metadata": {},
   "outputs": [],
   "source": [
    "# Dependencies and Setup\n",
    "import matplotlib.cbook as cbook\n",
    "import matplotlib.dates as dates\n",
    "import matplotlib.ticker as ticker\n",
    "import matplotlib.pyplot as plt\n",
    "import pandas as pd\n",
    "import numpy as np\n",
    "import requests\n",
    "import json\n",
    "import copy\n",
    "from typing import List\n",
    "import csv\n",
    "import gmaps\n"
   ]
  },
  {
   "cell_type": "markdown",
   "metadata": {},
   "source": [
    "Import saved csv. CSV includes data generated from 'StateCountySampleDataDF()' function.\n",
    "Clean data."
   ]
  },
  {
   "cell_type": "code",
   "execution_count": 80,
   "metadata": {},
   "outputs": [],
   "source": [
    "# Import from .CSV\n",
    "ca_la_df = pd.read_csv(\"./csv_data/california_data.csv\") "
   ]
  },
  {
   "cell_type": "code",
   "execution_count": 81,
   "metadata": {},
   "outputs": [],
   "source": [
    "# Verify california is in dataframe\n",
    "assert ca_la_df['state'][0] == 'California'"
   ]
  },
  {
   "cell_type": "code",
   "execution_count": 82,
   "metadata": {},
   "outputs": [],
   "source": [
    "# Make copy before filtering\n",
    "california_filtered_df = ca_la_df.copy()"
   ]
  },
  {
   "cell_type": "markdown",
   "metadata": {},
   "source": [
    "### Clean dataset."
   ]
  },
  {
   "cell_type": "code",
   "execution_count": 85,
   "metadata": {
    "scrolled": true
   },
   "outputs": [],
   "source": [
    "# Based off the scatter plot, outliers can be found with a sample data over 400. Show all outliers over 400 sample measurement.\n",
    "outlier = california_filtered_df[(california_filtered_df[['sample_measurement']] > 400).all(axis=1)]\n",
    "# Select certain columns to use for mapping, \n",
    "california_filtered_df=california_filtered_df[['county','site_number','sample_measurement','latitude','longitude','time_local','date_gmt','time_gmt','date_of_last_change']]\n",
    "# Drop nan values and empty values\n",
    "california_filtered_df=california_filtered_df.dropna()\n",
    "# Remove all numbers below 0 and above 400\n",
    "california_filtered_df=california_filtered_df[(california_filtered_df[['sample_measurement']] > 0).all(axis=1) & (california_filtered_df[['sample_measurement']] < 400).all(axis=1)]"
   ]
  },
  {
   "cell_type": "code",
   "execution_count": 90,
   "metadata": {},
   "outputs": [],
   "source": [
    "ca_filtered_noIndexChange = california_filtered_df"
   ]
  },
  {
   "cell_type": "code",
   "execution_count": 91,
   "metadata": {},
   "outputs": [],
   "source": [
    "# Assign date_gmt DateTimeIndex. Allows for date searching throug index.\n",
    "california_filtered_df['date_gmt']=pd.DatetimeIndex(california_filtered_df['date_gmt'])\n",
    "#Set index to date_gmt\n",
    "california_filtered_df = california_filtered_df.set_index('date_gmt')"
   ]
  },
  {
   "cell_type": "markdown",
   "metadata": {},
   "source": [
    "### Clean Copy dataset."
   ]
  },
  {
   "cell_type": "code",
   "execution_count": 92,
   "metadata": {},
   "outputs": [],
   "source": [
    "# Copy of clean data\n",
    "ca_la_clean_data = california_filtered_df.copy()"
   ]
  },
  {
   "cell_type": "markdown",
   "metadata": {},
   "source": [
    "### Filter: Seperate dataframes by Site Number"
   ]
  },
  {
   "cell_type": "markdown",
   "metadata": {},
   "source": [
    "#### Site Number Seperation: Spring"
   ]
  },
  {
   "cell_type": "code",
   "execution_count": 229,
   "metadata": {},
   "outputs": [],
   "source": [
    "# Seperate by site_number\n",
    "spring_ca_la['site_number'].unique()\n",
    "# Identify Site Number: 1103. Filter out values affiliated\n",
    "site_number_1103=spring_ca_la[(spring_ca_la[['site_number']]==1103).all(axis=1)]"
   ]
  },
  {
   "cell_type": "code",
   "execution_count": 231,
   "metadata": {},
   "outputs": [],
   "source": [
    "spring_sn_1103 = site_number_1103.copy()\n",
    "spring_sn_1103.reset_index()\n",
    "spring_sn_1103=spring_sn_1103.set_index('site_number')"
   ]
  },
  {
   "cell_type": "code",
   "execution_count": null,
   "metadata": {},
   "outputs": [],
   "source": []
  },
  {
   "cell_type": "markdown",
   "metadata": {},
   "source": [
    "* 34.06659,-118.22688= LA, CA. LA Department of Water and Power (1103)\n",
    "* 33.79236,-118.17533= Long Beach, CA (4004)\n",
    "* 34.14435,-117.85036= Glendora, CA (16)\n",
    "* 34.19925,-118.53276= Reseda, CA (1201)\n",
    "* 34.38344,-118.5284= Santa Clarita, CA (6012)\n",
    "* 34.813034,-118.884819= Lebec, CA (9034)"
   ]
  },
  {
   "cell_type": "markdown",
   "metadata": {},
   "source": [
    "### Begin IQR research - Annual Sample Results"
   ]
  },
  {
   "cell_type": "code",
   "execution_count": 473,
   "metadata": {},
   "outputs": [],
   "source": [
    "# Copy of clean data\n",
    "ca_la_box_data = ca_filtered_noIndexChange\n",
    "# Sort Values\n",
    "ca_la_box_data=ca_la_box_data.sort_values([\"date_gmt\", \"time_gmt\"])"
   ]
  },
  {
   "cell_type": "code",
   "execution_count": 474,
   "metadata": {},
   "outputs": [
    {
     "data": {
      "text/html": [
       "<div>\n",
       "<style scoped>\n",
       "    .dataframe tbody tr th:only-of-type {\n",
       "        vertical-align: middle;\n",
       "    }\n",
       "\n",
       "    .dataframe tbody tr th {\n",
       "        vertical-align: top;\n",
       "    }\n",
       "\n",
       "    .dataframe thead th {\n",
       "        text-align: right;\n",
       "    }\n",
       "</style>\n",
       "<table border=\"1\" class=\"dataframe\">\n",
       "  <thead>\n",
       "    <tr style=\"text-align: right;\">\n",
       "      <th></th>\n",
       "      <th>county</th>\n",
       "      <th>site_number</th>\n",
       "      <th>sample_measurement</th>\n",
       "      <th>latitude</th>\n",
       "      <th>longitude</th>\n",
       "      <th>time_local</th>\n",
       "      <th>date_gmt</th>\n",
       "      <th>time_gmt</th>\n",
       "      <th>date_of_last_change</th>\n",
       "    </tr>\n",
       "  </thead>\n",
       "  <tbody>\n",
       "    <tr>\n",
       "      <th>8099</th>\n",
       "      <td>Los Angeles</td>\n",
       "      <td>1103</td>\n",
       "      <td>45.0</td>\n",
       "      <td>34.06659</td>\n",
       "      <td>-118.22688</td>\n",
       "      <td>00:00</td>\n",
       "      <td>2019-01-01</td>\n",
       "      <td>08:00</td>\n",
       "      <td>2019-06-27</td>\n",
       "    </tr>\n",
       "    <tr>\n",
       "      <th>16139</th>\n",
       "      <td>Los Angeles</td>\n",
       "      <td>4004</td>\n",
       "      <td>9.4</td>\n",
       "      <td>33.79236</td>\n",
       "      <td>-118.17533</td>\n",
       "      <td>00:00</td>\n",
       "      <td>2019-01-01</td>\n",
       "      <td>08:00</td>\n",
       "      <td>2019-06-24</td>\n",
       "    </tr>\n",
       "    <tr>\n",
       "      <th>32219</th>\n",
       "      <td>Los Angeles</td>\n",
       "      <td>16</td>\n",
       "      <td>6.2</td>\n",
       "      <td>34.14435</td>\n",
       "      <td>-117.85036</td>\n",
       "      <td>00:00</td>\n",
       "      <td>2019-01-01</td>\n",
       "      <td>08:00</td>\n",
       "      <td>2019-06-24</td>\n",
       "    </tr>\n",
       "    <tr>\n",
       "      <th>40259</th>\n",
       "      <td>Los Angeles</td>\n",
       "      <td>1201</td>\n",
       "      <td>5.8</td>\n",
       "      <td>34.19925</td>\n",
       "      <td>-118.53276</td>\n",
       "      <td>00:00</td>\n",
       "      <td>2019-01-01</td>\n",
       "      <td>08:00</td>\n",
       "      <td>2019-06-24</td>\n",
       "    </tr>\n",
       "    <tr>\n",
       "      <th>8098</th>\n",
       "      <td>Los Angeles</td>\n",
       "      <td>1103</td>\n",
       "      <td>30.0</td>\n",
       "      <td>34.06659</td>\n",
       "      <td>-118.22688</td>\n",
       "      <td>01:00</td>\n",
       "      <td>2019-01-01</td>\n",
       "      <td>09:00</td>\n",
       "      <td>2019-06-27</td>\n",
       "    </tr>\n",
       "    <tr>\n",
       "      <th>16138</th>\n",
       "      <td>Los Angeles</td>\n",
       "      <td>4004</td>\n",
       "      <td>6.0</td>\n",
       "      <td>33.79236</td>\n",
       "      <td>-118.17533</td>\n",
       "      <td>01:00</td>\n",
       "      <td>2019-01-01</td>\n",
       "      <td>09:00</td>\n",
       "      <td>2019-06-24</td>\n",
       "    </tr>\n",
       "  </tbody>\n",
       "</table>\n",
       "</div>"
      ],
      "text/plain": [
       "            county  site_number  sample_measurement  latitude  longitude  \\\n",
       "8099   Los Angeles         1103                45.0  34.06659 -118.22688   \n",
       "16139  Los Angeles         4004                 9.4  33.79236 -118.17533   \n",
       "32219  Los Angeles           16                 6.2  34.14435 -117.85036   \n",
       "40259  Los Angeles         1201                 5.8  34.19925 -118.53276   \n",
       "8098   Los Angeles         1103                30.0  34.06659 -118.22688   \n",
       "16138  Los Angeles         4004                 6.0  33.79236 -118.17533   \n",
       "\n",
       "      time_local   date_gmt time_gmt date_of_last_change  \n",
       "8099       00:00 2019-01-01    08:00          2019-06-27  \n",
       "16139      00:00 2019-01-01    08:00          2019-06-24  \n",
       "32219      00:00 2019-01-01    08:00          2019-06-24  \n",
       "40259      00:00 2019-01-01    08:00          2019-06-24  \n",
       "8098       01:00 2019-01-01    09:00          2019-06-27  \n",
       "16138      01:00 2019-01-01    09:00          2019-06-24  "
      ]
     },
     "execution_count": 474,
     "metadata": {},
     "output_type": "execute_result"
    }
   ],
   "source": [
    "# Set index to site_number. Sort values by site_number and time_gmt\n",
    "ca_la_box_data.sort_values(by=['site_number','time_gmt'], ascending=True)\n",
    "ca_la_box_data.head(6)"
   ]
  },
  {
   "cell_type": "code",
   "execution_count": 475,
   "metadata": {
    "scrolled": true
   },
   "outputs": [
    {
     "data": {
      "text/html": [
       "<div>\n",
       "<style scoped>\n",
       "    .dataframe tbody tr th:only-of-type {\n",
       "        vertical-align: middle;\n",
       "    }\n",
       "\n",
       "    .dataframe tbody tr th {\n",
       "        vertical-align: top;\n",
       "    }\n",
       "\n",
       "    .dataframe thead th {\n",
       "        text-align: right;\n",
       "    }\n",
       "</style>\n",
       "<table border=\"1\" class=\"dataframe\">\n",
       "  <thead>\n",
       "    <tr style=\"text-align: right;\">\n",
       "      <th></th>\n",
       "      <th>sample_measurement</th>\n",
       "      <th>time_gmt</th>\n",
       "    </tr>\n",
       "    <tr>\n",
       "      <th>site_number</th>\n",
       "      <th></th>\n",
       "      <th></th>\n",
       "    </tr>\n",
       "  </thead>\n",
       "  <tbody>\n",
       "    <tr>\n",
       "      <th>16</th>\n",
       "      <td>4.7</td>\n",
       "      <td>00:00</td>\n",
       "    </tr>\n",
       "    <tr>\n",
       "      <th>16</th>\n",
       "      <td>7.3</td>\n",
       "      <td>00:00</td>\n",
       "    </tr>\n",
       "    <tr>\n",
       "      <th>16</th>\n",
       "      <td>7.0</td>\n",
       "      <td>00:00</td>\n",
       "    </tr>\n",
       "    <tr>\n",
       "      <th>16</th>\n",
       "      <td>15.2</td>\n",
       "      <td>00:00</td>\n",
       "    </tr>\n",
       "    <tr>\n",
       "      <th>16</th>\n",
       "      <td>11.4</td>\n",
       "      <td>00:00</td>\n",
       "    </tr>\n",
       "  </tbody>\n",
       "</table>\n",
       "</div>"
      ],
      "text/plain": [
       "             sample_measurement time_gmt\n",
       "site_number                             \n",
       "16                          4.7    00:00\n",
       "16                          7.3    00:00\n",
       "16                          7.0    00:00\n",
       "16                         15.2    00:00\n",
       "16                         11.4    00:00"
      ]
     },
     "execution_count": 475,
     "metadata": {},
     "output_type": "execute_result"
    }
   ],
   "source": [
    "# Filter DF to only columns used\n",
    "filtered_ca_la_box_data = ca_la_box_data[['sample_measurement', 'site_number','time_gmt']].set_index('site_number').sort_values(by=['site_number','time_gmt'], ascending=True)\n",
    "filtered_ca_la_box_data.head()"
   ]
  },
  {
   "cell_type": "code",
   "execution_count": 476,
   "metadata": {
    "scrolled": true
   },
   "outputs": [
    {
     "data": {
      "text/plain": [
       "[16, 1103, 1201, 4004, 6012, 9034]"
      ]
     },
     "execution_count": 476,
     "metadata": {},
     "output_type": "execute_result"
    }
   ],
   "source": [
    "# Make a list of site_numbers. Used in for loops to grab specific data by site number & used for new df header.\n",
    "filtered_ca_la_box_list = filtered_ca_la_box_data.index.unique().tolist()\n",
    "filtered_ca_la_box_list"
   ]
  },
  {
   "cell_type": "code",
   "execution_count": 477,
   "metadata": {},
   "outputs": [],
   "source": [
    "# Look through sample measurement list and count the amount of mice in each drug regimen.\n",
    "# Create an empty list to fill with for loop\n",
    "measurement_quartile=[]\n",
    "\n",
    "# Search through filtered_ca_la_box_data with '.loc[site_number, 'sample_measurement' column]' and get the quartile\n",
    "for i in filtered_ca_la_box_list:\n",
    "    location = filtered_ca_la_box_data.loc[i, 'sample_measurement'].quantile(q=[.25, .5, .75])\n",
    "    # append results to measurement_quartile list before moving to next value in tumor_regimen_list\n",
    "    measurement_quartile.append(location)"
   ]
  },
  {
   "cell_type": "code",
   "execution_count": 478,
   "metadata": {},
   "outputs": [
    {
     "data": {
      "text/plain": [
       "[0.25     7.3\n",
       " 0.50    11.2\n",
       " 0.75    16.1\n",
       " Name: sample_measurement, dtype: float64,\n",
       " 0.25     8.0\n",
       " 0.50    12.0\n",
       " 0.75    17.0\n",
       " Name: sample_measurement, dtype: float64,\n",
       " 0.25     7.1\n",
       " 0.50    10.9\n",
       " 0.75    14.8\n",
       " Name: sample_measurement, dtype: float64,\n",
       " 0.25     6.1\n",
       " 0.50     9.3\n",
       " 0.75    13.1\n",
       " Name: sample_measurement, dtype: float64,\n",
       " 0.25     3.5\n",
       " 0.50     6.8\n",
       " 0.75    10.8\n",
       " Name: sample_measurement, dtype: float64,\n",
       " 0.25    1.3\n",
       " 0.50    2.2\n",
       " 0.75    3.2\n",
       " Name: sample_measurement, dtype: float64]"
      ]
     },
     "execution_count": 478,
     "metadata": {},
     "output_type": "execute_result"
    }
   ],
   "source": [
    "measurement_quartile"
   ]
  },
  {
   "cell_type": "code",
   "execution_count": 479,
   "metadata": {},
   "outputs": [],
   "source": [
    "iqr_all = []\n",
    "\n",
    "# loop through measurement_quartile range (0-10). Find IQR by selecting one value at a time in the measurement_quartile list. \n",
    "for i in range(len(measurement_quartile)):\n",
    "    iqr = (measurement_quartile[i][0.75])-(measurement_quartile[i][0.25])\n",
    "    # Append finding to iqr_all list before moving to next value\n",
    "    iqr_all.append(iqr)\n",
    "#print(iqr_all)"
   ]
  },
  {
   "cell_type": "code",
   "execution_count": 480,
   "metadata": {},
   "outputs": [
    {
     "data": {
      "text/plain": [
       "[8.8, 9.0, 7.700000000000001, 7.0, 7.300000000000001, 1.9000000000000001]"
      ]
     },
     "execution_count": 480,
     "metadata": {},
     "output_type": "execute_result"
    }
   ],
   "source": [
    "# Show list. Verify we have correct amount\n",
    "iqr_all"
   ]
  },
  {
   "cell_type": "code",
   "execution_count": 481,
   "metadata": {},
   "outputs": [],
   "source": [
    "assert len(iqr_all) == 6"
   ]
  },
  {
   "cell_type": "code",
   "execution_count": 482,
   "metadata": {},
   "outputs": [],
   "source": [
    "headers_list=['Glendora, CA (16)','Downtown LA (1103)','Reseda, CA (1201)','Long Beach, CA (4004)','Santa Clarita, CA (6012)','Lebec, CA (9034)']"
   ]
  },
  {
   "cell_type": "code",
   "execution_count": 483,
   "metadata": {},
   "outputs": [
    {
     "data": {
      "text/plain": [
       "[{'Glendora, CA (16)': 8.8,\n",
       "  'Downtown LA (1103)': 9.0,\n",
       "  'Reseda, CA (1201)': 7.7,\n",
       "  'Long Beach, CA (4004)': 7.0,\n",
       "  'Santa Clarita, CA (6012)': 7.3,\n",
       "  'Lebec, CA (9034)': 1.9}]"
      ]
     },
     "execution_count": 483,
     "metadata": {},
     "output_type": "execute_result"
    }
   ],
   "source": [
    "# Round value.\n",
    "round_iqr_all = [round(num, 2) for num in iqr_all]\n",
    "\n",
    "# Combine both for loop generated list into one.\n",
    "measurements_iqr_all = [dict(zip(headers_list, round_iqr_all))]\n",
    "measurements_iqr_all"
   ]
  },
  {
   "cell_type": "code",
   "execution_count": 484,
   "metadata": {},
   "outputs": [
    {
     "data": {
      "text/html": [
       "<div>\n",
       "<style scoped>\n",
       "    .dataframe tbody tr th:only-of-type {\n",
       "        vertical-align: middle;\n",
       "    }\n",
       "\n",
       "    .dataframe tbody tr th {\n",
       "        vertical-align: top;\n",
       "    }\n",
       "\n",
       "    .dataframe thead th {\n",
       "        text-align: right;\n",
       "    }\n",
       "</style>\n",
       "<table border=\"1\" class=\"dataframe\">\n",
       "  <thead>\n",
       "    <tr style=\"text-align: right;\">\n",
       "      <th></th>\n",
       "      <th>Glendora, CA (16)</th>\n",
       "      <th>Downtown LA (1103)</th>\n",
       "      <th>Reseda, CA (1201)</th>\n",
       "      <th>Long Beach, CA (4004)</th>\n",
       "      <th>Santa Clarita, CA (6012)</th>\n",
       "      <th>Lebec, CA (9034)</th>\n",
       "    </tr>\n",
       "  </thead>\n",
       "  <tbody>\n",
       "    <tr>\n",
       "      <th>0</th>\n",
       "      <td>8.8</td>\n",
       "      <td>9.0</td>\n",
       "      <td>7.7</td>\n",
       "      <td>7.0</td>\n",
       "      <td>7.3</td>\n",
       "      <td>1.9</td>\n",
       "    </tr>\n",
       "  </tbody>\n",
       "</table>\n",
       "</div>"
      ],
      "text/plain": [
       "   Glendora, CA (16)  Downtown LA (1103)  Reseda, CA (1201)  \\\n",
       "0                8.8                 9.0                7.7   \n",
       "\n",
       "   Long Beach, CA (4004)  Santa Clarita, CA (6012)  Lebec, CA (9034)  \n",
       "0                    7.0                       7.3               1.9  "
      ]
     },
     "execution_count": 484,
     "metadata": {},
     "output_type": "execute_result"
    }
   ],
   "source": [
    "# Display in dataframe\n",
    "measurements_iqr_all_df=pd.DataFrame(measurements_iqr_all)\n",
    "measurements_iqr_all_df"
   ]
  },
  {
   "cell_type": "code",
   "execution_count": null,
   "metadata": {},
   "outputs": [],
   "source": []
  },
  {
   "cell_type": "markdown",
   "metadata": {},
   "source": [
    "### Begin Box Plots - Annual Sample Results"
   ]
  },
  {
   "cell_type": "code",
   "execution_count": 485,
   "metadata": {},
   "outputs": [
    {
     "name": "stdout",
     "output_type": "stream",
     "text": [
      "[1.9, 7.0, 7.3, 7.7, 8.8, 9.0]\n"
     ]
    }
   ],
   "source": [
    "# Values for plotting\n",
    "box_plot_values = round_iqr_all\n",
    "# Sort to determine outliers\n",
    "values_sorted = sorted(box_plot_values)\n",
    "print(values_sorted)"
   ]
  },
  {
   "cell_type": "code",
   "execution_count": 486,
   "metadata": {},
   "outputs": [],
   "source": [
    "# Reset dataframe for filtering\n",
    "filtered_ca_la_box_data=filtered_ca_la_box_data.reset_index()"
   ]
  },
  {
   "cell_type": "code",
   "execution_count": 487,
   "metadata": {},
   "outputs": [],
   "source": [
    "#Filter: By site location number. Set as own dataframe\n",
    "ca_la_box_16=filtered_ca_la_box_data[filtered_ca_la_box_data['site_number'] == 16]\n",
    "ca_la_box_1103=filtered_ca_la_box_data[filtered_ca_la_box_data['site_number'] == 1103]\n",
    "ca_la_box_1201=filtered_ca_la_box_data[filtered_ca_la_box_data['site_number'] == 1201]\n",
    "ca_la_box_4004=filtered_ca_la_box_data[filtered_ca_la_box_data['site_number'] == 4004]\n",
    "ca_la_box_6012=filtered_ca_la_box_data[filtered_ca_la_box_data['site_number'] == 6012]\n",
    "ca_la_box_9034=filtered_ca_la_box_data[filtered_ca_la_box_data['site_number'] == 9034]"
   ]
  },
  {
   "cell_type": "code",
   "execution_count": 488,
   "metadata": {},
   "outputs": [],
   "source": [
    "# Sample measurement values per site location\n",
    "site_16_measurements = ca_la_box_16['sample_measurement']\n",
    "site_1103_measurements = ca_la_box_1103['sample_measurement']\n",
    "site_1201_measurements = ca_la_box_1201['sample_measurement']\n",
    "site_4004_measurements = ca_la_box_4004['sample_measurement']\n",
    "site_6012_measurements = ca_la_box_6012['sample_measurement']\n",
    "site_9034_measurements = ca_la_box_9034['sample_measurement']\n",
    "total = len(site_16_measurements)+len(site_1103_measurements)+len(site_1201_measurements)+len(site_4004_measurements)+len(site_6012_measurements)+len(site_9034_measurements)"
   ]
  },
  {
   "cell_type": "code",
   "execution_count": 489,
   "metadata": {},
   "outputs": [
    {
     "data": {
      "image/png": "[encoded data removed]",
      "text/plain": [
       "<Figure size 720x720 with 1 Axes>"
      ]
     },
     "metadata": {
      "needs_background": "light"
     },
     "output_type": "display_data"
    },
    {
     "name": "stdout",
     "output_type": "stream",
     "text": [
      "Total Samples Measured: 38400\n"
     ]
    }
   ],
   "source": [
    "# Generate a box plot of the sample measurement of each site location, annually\n",
    "measurement_plot_info = [site_16_measurements,site_1103_measurements,site_1201_measurements,site_4004_measurements,site_6012_measurements,site_9034_measurements]\n",
    "plot_labels = ['Site 16','Site 1103','Site 1201','Site 4004','Site 6012','Site 9034']\n",
    "fig, ax = plt.subplots(figsize=(10, 10))\n",
    "pos = np.array(range(len(measurement_plot_info))) + 1\n",
    "bp = ax.boxplot(measurement_plot_info, sym='k+', showfliers=True)\n",
    "\n",
    "ax.set_xticklabels(headers_list, rotation=45)\n",
    "ax.set_yticks(range(0, 300, 25))\n",
    "ax.set_xlabel('Site Locations: Los Angeles')\n",
    "ax.set_ylabel('PM 2.5 Measurements')\n",
    "ax.set_title('Los Angeles, CA: Annual Site Location Sample Measurements')\n",
    "plt.show()\n",
    "print(f'Total Samples Measured: {total}')"
   ]
  },
  {
   "cell_type": "markdown",
   "metadata": {},
   "source": [
    "Potential Outliers"
   ]
  },
  {
   "cell_type": "markdown",
   "metadata": {},
   "source": [
    "Filtering by outlier values and dates may tell us which day/month of the year has larger than normal air pollution measurements. "
   ]
  },
  {
   "cell_type": "code",
   "execution_count": 490,
   "metadata": {},
   "outputs": [
    {
     "name": "stdout",
     "output_type": "stream",
     "text": [
      "Total amount samples in set: 7858\n",
      "Total amount of outliers: 97\n",
      "Glendora Outlier values: [ 29.4  29.4  29.4  29.4  29.4  29.4  29.5  29.5  29.6  29.6  29.7  29.7\n",
      "  29.8  29.9  29.9  29.9  30.2  30.2  30.4  30.4  30.4  30.4  30.6  30.6\n",
      "  30.6  30.6  30.8  30.9  31.1  31.1  31.1  31.3  31.3  31.4  31.4  31.5\n",
      "  31.6  31.8  31.8  31.8  32.   32.3  32.5  33.1  33.3  33.3  33.3  33.3\n",
      "  33.3  33.6  33.6  33.8  33.8  34.   34.   34.3  34.5  35.   35.5  35.5\n",
      "  35.7  37.   37.2  38.   38.   38.2  38.2  39.   40.   40.4  40.4  40.4\n",
      "  41.4  41.6  42.4  42.6  44.5  45.   45.3  49.1  50.3  56.   69.3  75.6\n",
      "  79.1  87.1  96.9  99.1 101.3 106.2 124.2 138.9 144.6 150.1 152.1 154.\n",
      " 189.6]\n"
     ]
    }
   ],
   "source": [
    "# Glendora, CA (16) Outliers\n",
    "glendora_annual_outliers = bp[\"fliers\"][0].get_data()[1]\n",
    "glendora_annual_outliers.sort(axis=-1, kind='quicksort', order=None)\n",
    "print(f'Total amount samples in set: {len(site_16_measurements)}')\n",
    "print(f'Total amount of outliers: {len(glendora_annual_outliers)}')\n",
    "print(f'Glendora Outlier values: {glendora_annual_outliers}')"
   ]
  },
  {
   "cell_type": "code",
   "execution_count": 491,
   "metadata": {},
   "outputs": [
    {
     "name": "stdout",
     "output_type": "stream",
     "text": [
      "Total amount samples in set: 7784\n",
      "Total amount of outliers: 185\n",
      "Downtown LA Outlier values: [ 31.  31.  31.  31.  31.  31.  31.  31.  31.  31.  31.  31.  31.  31.\n",
      "  31.  31.  31.  31.  31.  31.  31.  31.  31.  31.  32.  32.  32.  32.\n",
      "  32.  32.  32.  32.  32.  32.  32.  32.  32.  32.  32.  32.  32.  32.\n",
      "  32.  32.  32.  32.  32.  33.  33.  33.  33.  33.  33.  33.  33.  33.\n",
      "  33.  33.  33.  33.  33.  33.  33.  33.  33.  33.  33.  34.  34.  34.\n",
      "  34.  34.  34.  34.  34.  34.  34.  34.  34.  35.  35.  35.  35.  35.\n",
      "  35.  35.  35.  36.  36.  36.  36.  36.  36.  36.  36.  36.  37.  37.\n",
      "  37.  37.  37.  37.  37.  37.  37.  37.  37.  37.  37.  37.  38.  38.\n",
      "  38.  38.  38.  38.  38.  38.  38.  38.  38.  38.  38.  38.  38.  39.\n",
      "  39.  39.  39.  39.  39.  39.  39.  39.  39.  39.  39.  40.  40.  40.\n",
      "  40.  40.  40.  40.  40.  41.  41.  41.  41.  42.  42.  42.  42.  42.\n",
      "  42.  42.  43.  43.  43.  44.  45.  45.  45.  45.  45.  45.  48.  48.\n",
      "  48.  49.  50.  50.  51.  53.  54.  55.  63.  64.  66.  72.  73.  74.\n",
      " 108. 111. 127.]\n"
     ]
    }
   ],
   "source": [
    "# Downtown LA, CA (1103) Outliers\n",
    "la_annual_outliers = bp[\"fliers\"][1].get_data()[1]\n",
    "la_annual_outliers.sort(axis=-1, kind='quicksort', order=None)\n",
    "print(f'Total amount samples in set: {len(site_1103_measurements)}')\n",
    "print(f'Total amount of outliers: {len(la_annual_outliers)}')\n",
    "print(f'Downtown LA Outlier values: {la_annual_outliers}')"
   ]
  },
  {
   "cell_type": "code",
   "execution_count": 492,
   "metadata": {},
   "outputs": [
    {
     "name": "stdout",
     "output_type": "stream",
     "text": [
      "Total amount samples in set: 7893\n",
      "Total amount of outliers: 224\n",
      "Reseda Outlier values: [ 26.4  26.4  26.4  26.4  26.5  26.5  26.5  26.5  26.6  26.6  26.6  26.7\n",
      "  26.7  26.8  26.8  26.8  26.8  26.8  26.8  26.8  26.8  27.   27.   27.1\n",
      "  27.1  27.2  27.2  27.2  27.3  27.4  27.5  27.5  27.5  27.5  27.5  27.5\n",
      "  27.5  27.5  27.6  27.6  27.6  27.6  27.6  27.6  27.8  27.8  27.8  27.8\n",
      "  27.9  28.   28.   28.   28.   28.   28.1  28.1  28.1  28.1  28.1  28.1\n",
      "  28.1  28.1  28.3  28.3  28.3  28.4  28.4  28.5  28.5  28.6  28.6  28.7\n",
      "  28.8  28.8  28.8  28.8  28.8  28.8  28.8  29.   29.   29.   29.   29.2\n",
      "  29.2  29.3  29.3  29.3  29.3  29.3  29.3  29.3  29.3  29.4  29.5  29.5\n",
      "  29.5  29.6  29.7  29.8  29.8  29.9  30.   30.   30.   30.1  30.1  30.3\n",
      "  30.3  30.3  30.4  30.5  30.5  30.5  30.5  30.5  30.5  30.6  30.6  30.6\n",
      "  30.7  31.   31.   31.   31.1  31.2  31.2  31.3  31.3  31.3  31.4  31.5\n",
      "  31.5  31.6  31.7  31.9  32.   32.2  32.2  32.2  32.2  32.3  32.4  32.4\n",
      "  32.5  32.7  32.9  33.1  33.1  33.4  33.4  33.4  33.5  33.6  33.7  33.7\n",
      "  33.9  33.9  33.9  34.2  34.6  34.7  34.8  34.8  34.8  35.   35.1  35.5\n",
      "  35.6  35.6  35.8  35.9  36.   36.8  37.   37.3  37.6  37.7  38.   38.5\n",
      "  38.7  39.6  39.7  39.9  40.2  40.7  40.7  41.4  41.6  42.4  42.9  43.\n",
      "  43.2  43.4  43.4  43.4  43.7  44.2  44.7  45.   45.2  46.6  47.5  48.8\n",
      "  49.1  49.7  50.7  53.7  54.7  59.4  61.1  63.1  68.   75.5  77.3  95.5\n",
      " 116.3 123.2 143.8 143.8 192.6 195.3 253.  265.8]\n"
     ]
    }
   ],
   "source": [
    "# Reseda, CA (1201) Outliers\n",
    "reseda_annual_outliers = bp[\"fliers\"][2].get_data()[1]\n",
    "reseda_annual_outliers.sort(axis=-1, kind='quicksort', order=None)\n",
    "print(f'Total amount samples in set: {len(site_1201_measurements)}')\n",
    "print(f'Total amount of outliers: {len(reseda_annual_outliers)}')\n",
    "print(f'Reseda Outlier values: {reseda_annual_outliers}')"
   ]
  },
  {
   "cell_type": "code",
   "execution_count": 493,
   "metadata": {},
   "outputs": [
    {
     "name": "stdout",
     "output_type": "stream",
     "text": [
      "Total amount samples in set: 7911\n",
      "Total amount of outliers: 355\n",
      "Long Beach Outlier values: [ 23.7  23.7  23.7  23.8  23.8  23.8  23.8  23.8  23.8  23.9  23.9  23.9\n",
      "  23.9  23.9  23.9  23.9  24.1  24.1  24.1  24.1  24.1  24.1  24.2  24.2\n",
      "  24.2  24.2  24.3  24.3  24.3  24.3  24.3  24.3  24.3  24.4  24.4  24.4\n",
      "  24.4  24.4  24.4  24.4  24.4  24.4  24.4  24.6  24.6  24.6  24.6  24.6\n",
      "  24.6  24.6  24.7  24.8  24.8  24.8  24.9  24.9  24.9  24.9  24.9  24.9\n",
      "  24.9  24.9  25.1  25.1  25.1  25.1  25.1  25.1  25.1  25.1  25.2  25.2\n",
      "  25.3  25.3  25.3  25.4  25.4  25.4  25.4  25.6  25.6  25.6  25.6  25.6\n",
      "  25.6  25.6  25.7  25.8  25.8  25.9  25.9  25.9  25.9  26.   26.1  26.1\n",
      "  26.1  26.3  26.3  26.3  26.4  26.4  26.4  26.4  26.4  26.4  26.4  26.4\n",
      "  26.5  26.6  26.6  26.6  26.6  26.6  26.6  26.6  26.8  26.8  26.8  26.8\n",
      "  26.9  26.9  27.1  27.1  27.1  27.3  27.3  27.3  27.4  27.4  27.4  27.4\n",
      "  27.4  27.4  27.4  27.5  27.5  27.5  27.5  27.6  27.6  27.6  27.6  27.6\n",
      "  27.6  27.6  27.8  27.8  27.8  27.8  27.8  27.9  28.1  28.1  28.1  28.1\n",
      "  28.1  28.3  28.3  28.3  28.3  28.3  28.3  28.3  28.3  28.3  28.3  28.4\n",
      "  28.4  28.5  28.5  28.5  28.6  28.6  28.6  28.6  28.6  28.8  28.9  29.\n",
      "  29.1  29.1  29.1  29.1  29.1  29.3  29.3  29.4  29.4  29.5  29.6  29.6\n",
      "  29.6  29.6  29.6  29.7  29.8  29.8  29.8  29.8  29.8  29.8  29.8  29.9\n",
      "  30.   30.1  30.1  30.2  30.3  30.3  30.3  30.5  30.5  30.7  30.8  31.3\n",
      "  31.3  31.3  31.6  31.6  31.6  31.6  31.7  31.8  31.8  31.8  31.9  32.\n",
      "  32.1  32.1  32.1  32.1  32.2  32.2  32.2  32.2  32.6  32.6  32.6  32.6\n",
      "  32.7  32.7  32.7  33.   33.2  33.2  33.3  33.4  33.6  33.7  33.7  33.8\n",
      "  33.9  33.9  33.9  34.1  34.2  34.4  34.5  34.7  34.9  34.9  35.2  35.4\n",
      "  35.4  35.4  35.5  35.7  35.9  35.9  36.1  36.2  36.2  36.2  36.9  36.9\n",
      "  37.1  37.1  37.4  37.4  37.4  37.4  37.7  37.7  37.9  37.9  38.2  38.2\n",
      "  38.4  38.4  38.6  38.7  38.8  38.9  39.1  39.1  39.1  39.2  39.4  39.6\n",
      "  39.7  39.8  40.1  40.1  40.1  40.3  40.3  40.3  40.5  40.6  40.6  40.8\n",
      "  41.3  41.3  41.3  41.6  41.8  41.8  42.   42.   42.8  42.8  43.   43.2\n",
      "  43.3  44.3  45.7  46.   46.5  46.5  46.7  46.8  46.9  47.2  47.7  48.7\n",
      "  49.9  50.4  51.   51.4  51.4  51.9  55.2  55.3  59.8  60.8  61.1  61.3\n",
      "  62.3  62.3  63.5  64.5  67.5  94.5 144.4]\n"
     ]
    }
   ],
   "source": [
    "# Long Beach, CA (4004) Outliers\n",
    "lb_annual_outliers = bp[\"fliers\"][3].get_data()[1]\n",
    "lb_annual_outliers.sort(axis=-1, kind='quicksort', order=None)\n",
    "print(f'Total amount samples in set: {len(site_4004_measurements)}')\n",
    "print(f'Total amount of outliers: {len(lb_annual_outliers)}')\n",
    "print(f'Long Beach Outlier values: {lb_annual_outliers}')"
   ]
  },
  {
   "cell_type": "code",
   "execution_count": 494,
   "metadata": {},
   "outputs": [
    {
     "name": "stdout",
     "output_type": "stream",
     "text": [
      "Total amount samples in set: 6905\n",
      "Total amount of outliers: 185\n",
      "Santa Clarita Outlier values: [ 21.8  21.8  21.9  21.9  21.9  21.9  21.9  21.9  21.9  21.9  21.9  21.9\n",
      "  21.9  21.9  21.9  21.9  22.   22.1  22.1  22.1  22.1  22.1  22.1  22.1\n",
      "  22.2  22.2  22.3  22.3  22.4  22.4  22.4  22.4  22.4  22.4  22.4  22.6\n",
      "  22.6  22.6  22.6  22.6  22.7  22.8  22.8  22.8  22.8  22.8  22.9  22.9\n",
      "  22.9  23.   23.1  23.1  23.1  23.1  23.1  23.3  23.3  23.3  23.3  23.3\n",
      "  23.3  23.4  23.4  23.6  23.6  23.6  23.8  23.8  23.8  23.8  23.8  23.8\n",
      "  23.8  23.8  23.9  24.1  24.1  24.1  24.1  24.2  24.3  24.3  24.3  24.3\n",
      "  24.3  24.3  24.3  24.3  24.3  24.4  24.4  24.5  24.5  24.5  24.5  24.5\n",
      "  24.5  24.7  24.8  24.8  24.9  25.   25.   25.1  25.3  25.3  25.3  25.5\n",
      "  25.5  25.5  25.8  26.   26.   26.1  26.2  26.3  26.5  26.5  26.6  26.8\n",
      "  26.8  27.   27.   27.2  27.2  27.5  27.7  27.7  28.4  28.4  28.6  28.6\n",
      "  28.7  28.7  28.9  29.1  29.1  29.1  29.2  29.2  29.3  29.6  29.6  29.9\n",
      "  30.1  30.1  30.4  31.9  32.1  32.4  32.5  32.5  33.6  33.8  34.1  34.3\n",
      "  34.5  34.7  34.8  34.8  35.4  36.5  36.7  37.   37.   38.1  38.2  38.7\n",
      "  38.7  40.3  40.8  42.3  42.3  42.5  44.1  48.9  50.1  51.8  54.6  57.1\n",
      "  62.1  66.4  91.3  97.4 127.8]\n"
     ]
    }
   ],
   "source": [
    "# Santa Clarita, CA (6012) Outliers\n",
    "santaclarita_annual_outliers = bp[\"fliers\"][4].get_data()[1]\n",
    "santaclarita_annual_outliers.sort(axis=-1, kind='quicksort', order=None)\n",
    "print(f'Total amount samples in set: {len(site_6012_measurements)}')\n",
    "print(f'Total amount of outliers: {len(santaclarita_annual_outliers)}')\n",
    "print(f'Santa Clarita Outlier values: {santaclarita_annual_outliers}')"
   ]
  },
  {
   "cell_type": "code",
   "execution_count": 495,
   "metadata": {},
   "outputs": [
    {
     "name": "stdout",
     "output_type": "stream",
     "text": [
      "Total amount samples in set: 49\n",
      "Total amount of outliers: 1\n",
      "Lebec Outlier values: [10.4]\n"
     ]
    }
   ],
   "source": [
    "# Lebec, CA (9034) Outliers\n",
    "Lebec_annual_outliers = bp[\"fliers\"][5].get_data()[1]\n",
    "Lebec_annual_outliers.sort(axis=-1, kind='quicksort', order=None)\n",
    "print(f'Total amount samples in set: {len(site_9034_measurements)}')\n",
    "print(f'Total amount of outliers: {len(Lebec_annual_outliers)}')\n",
    "print(f'Lebec Outlier values: {Lebec_annual_outliers}')"
   ]
  },
  {
   "cell_type": "code",
   "execution_count": null,
   "metadata": {},
   "outputs": [],
   "source": []
  },
  {
   "cell_type": "code",
   "execution_count": null,
   "metadata": {},
   "outputs": [],
   "source": []
  },
  {
   "cell_type": "markdown",
   "metadata": {},
   "source": [
    "## Begin Season filtered analysis"
   ]
  },
  {
   "cell_type": "markdown",
   "metadata": {},
   "source": [
    "### Season: Spring"
   ]
  },
  {
   "cell_type": "code",
   "execution_count": 496,
   "metadata": {},
   "outputs": [
    {
     "data": {
      "text/html": [
       "<div>\n",
       "<style scoped>\n",
       "    .dataframe tbody tr th:only-of-type {\n",
       "        vertical-align: middle;\n",
       "    }\n",
       "\n",
       "    .dataframe tbody tr th {\n",
       "        vertical-align: top;\n",
       "    }\n",
       "\n",
       "    .dataframe thead th {\n",
       "        text-align: right;\n",
       "    }\n",
       "</style>\n",
       "<table border=\"1\" class=\"dataframe\">\n",
       "  <thead>\n",
       "    <tr style=\"text-align: right;\">\n",
       "      <th></th>\n",
       "      <th>county</th>\n",
       "      <th>site_number</th>\n",
       "      <th>sample_measurement</th>\n",
       "      <th>latitude</th>\n",
       "      <th>longitude</th>\n",
       "      <th>time_local</th>\n",
       "      <th>time_gmt</th>\n",
       "      <th>date_of_last_change</th>\n",
       "    </tr>\n",
       "    <tr>\n",
       "      <th>date_gmt</th>\n",
       "      <th></th>\n",
       "      <th></th>\n",
       "      <th></th>\n",
       "      <th></th>\n",
       "      <th></th>\n",
       "      <th></th>\n",
       "      <th></th>\n",
       "      <th></th>\n",
       "    </tr>\n",
       "  </thead>\n",
       "  <tbody>\n",
       "    <tr>\n",
       "      <th>2019-04-06</th>\n",
       "      <td>Los Angeles</td>\n",
       "      <td>9034</td>\n",
       "      <td>1.4</td>\n",
       "      <td>34.813034</td>\n",
       "      <td>-118.884819</td>\n",
       "      <td>00:00</td>\n",
       "      <td>08:00</td>\n",
       "      <td>2020-03-04</td>\n",
       "    </tr>\n",
       "    <tr>\n",
       "      <th>2019-03-16</th>\n",
       "      <td>Los Angeles</td>\n",
       "      <td>9034</td>\n",
       "      <td>1.5</td>\n",
       "      <td>34.813034</td>\n",
       "      <td>-118.884819</td>\n",
       "      <td>00:00</td>\n",
       "      <td>08:00</td>\n",
       "      <td>2020-03-04</td>\n",
       "    </tr>\n",
       "    <tr>\n",
       "      <th>2019-04-21</th>\n",
       "      <td>Los Angeles</td>\n",
       "      <td>9034</td>\n",
       "      <td>3.0</td>\n",
       "      <td>34.813034</td>\n",
       "      <td>-118.884819</td>\n",
       "      <td>00:00</td>\n",
       "      <td>08:00</td>\n",
       "      <td>2020-03-04</td>\n",
       "    </tr>\n",
       "    <tr>\n",
       "      <th>2019-03-28</th>\n",
       "      <td>Los Angeles</td>\n",
       "      <td>9034</td>\n",
       "      <td>2.2</td>\n",
       "      <td>34.813034</td>\n",
       "      <td>-118.884819</td>\n",
       "      <td>00:00</td>\n",
       "      <td>08:00</td>\n",
       "      <td>2020-03-04</td>\n",
       "    </tr>\n",
       "    <tr>\n",
       "      <th>2019-05-09</th>\n",
       "      <td>Los Angeles</td>\n",
       "      <td>9034</td>\n",
       "      <td>3.0</td>\n",
       "      <td>34.813034</td>\n",
       "      <td>-118.884819</td>\n",
       "      <td>00:00</td>\n",
       "      <td>08:00</td>\n",
       "      <td>2020-04-14</td>\n",
       "    </tr>\n",
       "    <tr>\n",
       "      <th>...</th>\n",
       "      <td>...</td>\n",
       "      <td>...</td>\n",
       "      <td>...</td>\n",
       "      <td>...</td>\n",
       "      <td>...</td>\n",
       "      <td>...</td>\n",
       "      <td>...</td>\n",
       "      <td>...</td>\n",
       "    </tr>\n",
       "    <tr>\n",
       "      <th>2019-03-01</th>\n",
       "      <td>Los Angeles</td>\n",
       "      <td>1201</td>\n",
       "      <td>5.6</td>\n",
       "      <td>34.199250</td>\n",
       "      <td>-118.532760</td>\n",
       "      <td>20:00</td>\n",
       "      <td>04:00</td>\n",
       "      <td>2019-06-24</td>\n",
       "    </tr>\n",
       "    <tr>\n",
       "      <th>2019-03-01</th>\n",
       "      <td>Los Angeles</td>\n",
       "      <td>1201</td>\n",
       "      <td>6.9</td>\n",
       "      <td>34.199250</td>\n",
       "      <td>-118.532760</td>\n",
       "      <td>19:00</td>\n",
       "      <td>03:00</td>\n",
       "      <td>2019-06-24</td>\n",
       "    </tr>\n",
       "    <tr>\n",
       "      <th>2019-03-01</th>\n",
       "      <td>Los Angeles</td>\n",
       "      <td>1201</td>\n",
       "      <td>6.4</td>\n",
       "      <td>34.199250</td>\n",
       "      <td>-118.532760</td>\n",
       "      <td>18:00</td>\n",
       "      <td>02:00</td>\n",
       "      <td>2019-06-24</td>\n",
       "    </tr>\n",
       "    <tr>\n",
       "      <th>2019-03-01</th>\n",
       "      <td>Los Angeles</td>\n",
       "      <td>1201</td>\n",
       "      <td>3.9</td>\n",
       "      <td>34.199250</td>\n",
       "      <td>-118.532760</td>\n",
       "      <td>17:00</td>\n",
       "      <td>01:00</td>\n",
       "      <td>2019-06-24</td>\n",
       "    </tr>\n",
       "    <tr>\n",
       "      <th>2019-03-01</th>\n",
       "      <td>Los Angeles</td>\n",
       "      <td>1201</td>\n",
       "      <td>6.2</td>\n",
       "      <td>34.199250</td>\n",
       "      <td>-118.532760</td>\n",
       "      <td>16:00</td>\n",
       "      <td>00:00</td>\n",
       "      <td>2019-06-24</td>\n",
       "    </tr>\n",
       "  </tbody>\n",
       "</table>\n",
       "<p>10365 rows × 8 columns</p>\n",
       "</div>"
      ],
      "text/plain": [
       "                 county  site_number  sample_measurement   latitude  \\\n",
       "date_gmt                                                              \n",
       "2019-04-06  Los Angeles         9034                 1.4  34.813034   \n",
       "2019-03-16  Los Angeles         9034                 1.5  34.813034   \n",
       "2019-04-21  Los Angeles         9034                 3.0  34.813034   \n",
       "2019-03-28  Los Angeles         9034                 2.2  34.813034   \n",
       "2019-05-09  Los Angeles         9034                 3.0  34.813034   \n",
       "...                 ...          ...                 ...        ...   \n",
       "2019-03-01  Los Angeles         1201                 5.6  34.199250   \n",
       "2019-03-01  Los Angeles         1201                 6.9  34.199250   \n",
       "2019-03-01  Los Angeles         1201                 6.4  34.199250   \n",
       "2019-03-01  Los Angeles         1201                 3.9  34.199250   \n",
       "2019-03-01  Los Angeles         1201                 6.2  34.199250   \n",
       "\n",
       "             longitude time_local time_gmt date_of_last_change  \n",
       "date_gmt                                                        \n",
       "2019-04-06 -118.884819      00:00    08:00          2020-03-04  \n",
       "2019-03-16 -118.884819      00:00    08:00          2020-03-04  \n",
       "2019-04-21 -118.884819      00:00    08:00          2020-03-04  \n",
       "2019-03-28 -118.884819      00:00    08:00          2020-03-04  \n",
       "2019-05-09 -118.884819      00:00    08:00          2020-04-14  \n",
       "...                ...        ...      ...                 ...  \n",
       "2019-03-01 -118.532760      20:00    04:00          2019-06-24  \n",
       "2019-03-01 -118.532760      19:00    03:00          2019-06-24  \n",
       "2019-03-01 -118.532760      18:00    02:00          2019-06-24  \n",
       "2019-03-01 -118.532760      17:00    01:00          2019-06-24  \n",
       "2019-03-01 -118.532760      16:00    00:00          2019-06-24  \n",
       "\n",
       "[10365 rows x 8 columns]"
      ]
     },
     "execution_count": 496,
     "metadata": {},
     "output_type": "execute_result"
    }
   ],
   "source": [
    "# Sort by date_gmt and time_gmt\n",
    "spring_ca_la = ca_la_clean_data['2019-03-01':'2019-05-31']\n",
    "spring_ca_la"
   ]
  },
  {
   "cell_type": "markdown",
   "metadata": {},
   "source": [
    "**Reset index for and set new index for box plot.**"
   ]
  },
  {
   "cell_type": "code",
   "execution_count": 497,
   "metadata": {},
   "outputs": [],
   "source": [
    "spring_ca_la_box=spring_ca_la.reset_index().set_index('site_number').sort_values(by=['site_number','time_gmt'], ascending=True)"
   ]
  },
  {
   "cell_type": "code",
   "execution_count": null,
   "metadata": {},
   "outputs": [],
   "source": []
  },
  {
   "cell_type": "markdown",
   "metadata": {},
   "source": [
    "### Plot: Spring"
   ]
  },
  {
   "cell_type": "markdown",
   "metadata": {},
   "source": [
    "Input dataframe name below. Make loop later."
   ]
  },
  {
   "cell_type": "code",
   "execution_count": 498,
   "metadata": {},
   "outputs": [],
   "source": [
    "# dataframe to plot\n",
    "plot_df = spring_ca_la.copy()\n",
    "#ax.plot(date, site_number_1103.sample_measurement)\n",
    "plot_y_information = plot_df.sample_measurement"
   ]
  },
  {
   "cell_type": "code",
   "execution_count": null,
   "metadata": {},
   "outputs": [],
   "source": []
  },
  {
   "cell_type": "code",
   "execution_count": 524,
   "metadata": {},
   "outputs": [],
   "source": [
    "from matplotlib import cm"
   ]
  },
  {
   "cell_type": "code",
   "execution_count": null,
   "metadata": {},
   "outputs": [],
   "source": []
  },
  {
   "cell_type": "code",
   "execution_count": null,
   "metadata": {},
   "outputs": [],
   "source": []
  },
  {
   "cell_type": "code",
   "execution_count": 585,
   "metadata": {},
   "outputs": [
    {
     "data": {
      "image/png": "[encoded data removed]",
      "text/plain": [
       "<Figure size 1080x720 with 1 Axes>"
      ]
     },
     "metadata": {
      "needs_background": "light"
     },
     "output_type": "display_data"
    }
   ],
   "source": [
    "cmap = plt.cm.Spectral\n",
    "norm = plt.Normalize(vmin=4, vmax=5)\n",
    "z = np.array([4,4,5,4,5])\n",
    "\n",
    "# Assigm date as index of dataframe. Dataframe index has dates\n",
    "date = plot_df.index.astype('O')\n",
    "# Plot subplots\n",
    "fig, ax = plt.subplots(figsize=(15,10))\n",
    "\n",
    "# Input plot parameters. Use dates in index to sample measurement\n",
    "\n",
    "ax.scatter(date, plot_y_information)\n",
    "\n",
    "# Set month in xaxis by searching date format\n",
    "ax.xaxis.set_major_locator(dates.MonthLocator())\n",
    "# 16 is a slight approximation since months differ in number of days.\n",
    "ax.xaxis.set_minor_locator(dates.MonthLocator(bymonthday=16))\n",
    "ax.xaxis.set_major_formatter(ticker.NullFormatter())\n",
    "ax.xaxis.set_minor_formatter(dates.DateFormatter('%b'))\n",
    "\n",
    "# loop for custom tickers. Assign marker size and center text\n",
    "for tick in ax.xaxis.get_minor_ticks():\n",
    "    tick.tick1line.set_markersize(0)\n",
    "    tick.tick2line.set_markersize(0)\n",
    "    tick.label1.set_horizontalalignment('center')\n",
    "\n",
    "imid = len(plot_df) // 2\n",
    "ax.set_xlabel(str(date[imid].year))\n",
    "ax.set_ylabel('PM 2.5 Sample Measurements', size=15)\n",
    "ax.set_title('Spring 2019: Los Angeles, CA', size=18)\n",
    "plt.grid(True)\n",
    "\n",
    "\n",
    "plt.show()"
   ]
  },
  {
   "cell_type": "code",
   "execution_count": null,
   "metadata": {},
   "outputs": [],
   "source": []
  },
  {
   "cell_type": "markdown",
   "metadata": {},
   "source": [
    "#### Site Number Seperation: Spring"
   ]
  },
  {
   "cell_type": "code",
   "execution_count": 503,
   "metadata": {},
   "outputs": [],
   "source": [
    "# Seperate by site_number\n",
    "spring_ca_la['site_number'].unique()\n",
    "# Identify Site Number: 1103. Filter out values affiliated\n",
    "spring_site_number_16=spring_ca_la[(spring_ca_la[['site_number']]==16).all(axis=1)]\n",
    "spring_site_number_1103=spring_ca_la[(spring_ca_la[['site_number']]==1103).all(axis=1)]\n",
    "spring_site_number_1201=spring_ca_la[(spring_ca_la[['site_number']]==1201).all(axis=1)]\n",
    "spring_site_number_4004=spring_ca_la[(spring_ca_la[['site_number']]==4004).all(axis=1)]\n",
    "spring_site_number_6012=spring_ca_la[(spring_ca_la[['site_number']]==6012).all(axis=1)]\n",
    "spring_site_number_9034=spring_ca_la[(spring_ca_la[['site_number']]==9034).all(axis=1)]"
   ]
  },
  {
   "cell_type": "code",
   "execution_count": 506,
   "metadata": {},
   "outputs": [],
   "source": [
    "spring_site_number_16=spring_site_number_16[['site_number','sample_measurement','time_gmt']].reset_index().set_index('site_number').sort_values(by=['time_gmt'], ascending=True)\n",
    "spring_site_number_1103=spring_site_number_1103[['site_number','sample_measurement','time_gmt']].reset_index().set_index('site_number').sort_values(by=['time_gmt'], ascending=True)\n",
    "spring_site_number_1201=spring_site_number_1201[['site_number','sample_measurement','time_gmt']].reset_index().set_index('site_number').sort_values(by=['time_gmt'], ascending=True)\n",
    "spring_site_number_4004=spring_site_number_4004[['site_number','sample_measurement','time_gmt']].reset_index().set_index('site_number').sort_values(by=['time_gmt'], ascending=True)\n",
    "spring_site_number_6012=spring_site_number_6012[['site_number','sample_measurement','time_gmt']].reset_index().set_index('site_number').sort_values(by=['time_gmt'], ascending=True)\n",
    "spring_site_number_9034=spring_site_number_9034[['site_number','sample_measurement','time_gmt']].reset_index().set_index('site_number').sort_values(by=['time_gmt'], ascending=True)"
   ]
  },
  {
   "cell_type": "code",
   "execution_count": 507,
   "metadata": {},
   "outputs": [
    {
     "data": {
      "text/html": [
       "<div>\n",
       "<style scoped>\n",
       "    .dataframe tbody tr th:only-of-type {\n",
       "        vertical-align: middle;\n",
       "    }\n",
       "\n",
       "    .dataframe tbody tr th {\n",
       "        vertical-align: top;\n",
       "    }\n",
       "\n",
       "    .dataframe thead th {\n",
       "        text-align: right;\n",
       "    }\n",
       "</style>\n",
       "<table border=\"1\" class=\"dataframe\">\n",
       "  <thead>\n",
       "    <tr style=\"text-align: right;\">\n",
       "      <th></th>\n",
       "      <th>date_gmt</th>\n",
       "      <th>sample_measurement</th>\n",
       "      <th>time_gmt</th>\n",
       "    </tr>\n",
       "    <tr>\n",
       "      <th>site_number</th>\n",
       "      <th></th>\n",
       "      <th></th>\n",
       "      <th></th>\n",
       "    </tr>\n",
       "  </thead>\n",
       "  <tbody>\n",
       "    <tr>\n",
       "      <th>16</th>\n",
       "      <td>2019-03-01</td>\n",
       "      <td>8.5</td>\n",
       "      <td>00:00</td>\n",
       "    </tr>\n",
       "    <tr>\n",
       "      <th>16</th>\n",
       "      <td>2019-03-28</td>\n",
       "      <td>10.5</td>\n",
       "      <td>00:00</td>\n",
       "    </tr>\n",
       "    <tr>\n",
       "      <th>16</th>\n",
       "      <td>2019-05-21</td>\n",
       "      <td>5.9</td>\n",
       "      <td>00:00</td>\n",
       "    </tr>\n",
       "    <tr>\n",
       "      <th>16</th>\n",
       "      <td>2019-03-29</td>\n",
       "      <td>8.3</td>\n",
       "      <td>00:00</td>\n",
       "    </tr>\n",
       "    <tr>\n",
       "      <th>16</th>\n",
       "      <td>2019-03-30</td>\n",
       "      <td>9.5</td>\n",
       "      <td>00:00</td>\n",
       "    </tr>\n",
       "    <tr>\n",
       "      <th>...</th>\n",
       "      <td>...</td>\n",
       "      <td>...</td>\n",
       "      <td>...</td>\n",
       "    </tr>\n",
       "    <tr>\n",
       "      <th>16</th>\n",
       "      <td>2019-04-15</td>\n",
       "      <td>11.7</td>\n",
       "      <td>23:00</td>\n",
       "    </tr>\n",
       "    <tr>\n",
       "      <th>16</th>\n",
       "      <td>2019-05-11</td>\n",
       "      <td>11.9</td>\n",
       "      <td>23:00</td>\n",
       "    </tr>\n",
       "    <tr>\n",
       "      <th>16</th>\n",
       "      <td>2019-03-07</td>\n",
       "      <td>6.8</td>\n",
       "      <td>23:00</td>\n",
       "    </tr>\n",
       "    <tr>\n",
       "      <th>16</th>\n",
       "      <td>2019-04-13</td>\n",
       "      <td>9.3</td>\n",
       "      <td>23:00</td>\n",
       "    </tr>\n",
       "    <tr>\n",
       "      <th>16</th>\n",
       "      <td>2019-05-31</td>\n",
       "      <td>21.3</td>\n",
       "      <td>23:00</td>\n",
       "    </tr>\n",
       "  </tbody>\n",
       "</table>\n",
       "<p>2086 rows × 3 columns</p>\n",
       "</div>"
      ],
      "text/plain": [
       "              date_gmt  sample_measurement time_gmt\n",
       "site_number                                        \n",
       "16          2019-03-01                 8.5    00:00\n",
       "16          2019-03-28                10.5    00:00\n",
       "16          2019-05-21                 5.9    00:00\n",
       "16          2019-03-29                 8.3    00:00\n",
       "16          2019-03-30                 9.5    00:00\n",
       "...                ...                 ...      ...\n",
       "16          2019-04-15                11.7    23:00\n",
       "16          2019-05-11                11.9    23:00\n",
       "16          2019-03-07                 6.8    23:00\n",
       "16          2019-04-13                 9.3    23:00\n",
       "16          2019-05-31                21.3    23:00\n",
       "\n",
       "[2086 rows x 3 columns]"
      ]
     },
     "execution_count": 507,
     "metadata": {},
     "output_type": "execute_result"
    }
   ],
   "source": [
    "spring_site_number_16"
   ]
  },
  {
   "cell_type": "code",
   "execution_count": null,
   "metadata": {},
   "outputs": [],
   "source": []
  },
  {
   "cell_type": "markdown",
   "metadata": {},
   "source": [
    "#### Begin IQR for Box Plots"
   ]
  },
  {
   "cell_type": "code",
   "execution_count": 510,
   "metadata": {},
   "outputs": [
    {
     "data": {
      "text/plain": [
       "[0.25     6.800\n",
       " 0.50     9.300\n",
       " 0.75    13.375\n",
       " Name: sample_measurement, dtype: float64,\n",
       " 0.25     6.0\n",
       " 0.50    10.0\n",
       " 0.75    14.0\n",
       " Name: sample_measurement, dtype: float64,\n",
       " 0.25     5.300\n",
       " 0.50     8.300\n",
       " 0.75    11.875\n",
       " Name: sample_measurement, dtype: float64,\n",
       " 0.25     4.8\n",
       " 0.50     7.5\n",
       " 0.75    11.1\n",
       " Name: sample_measurement, dtype: float64,\n",
       " 0.25    2.8\n",
       " 0.50    5.0\n",
       " 0.75    8.7\n",
       " Name: sample_measurement, dtype: float64,\n",
       " 0.25    1.80\n",
       " 0.50    2.40\n",
       " 0.75    3.05\n",
       " Name: sample_measurement, dtype: float64]"
      ]
     },
     "execution_count": 510,
     "metadata": {},
     "output_type": "execute_result"
    }
   ],
   "source": [
    "# Look through sample measurement list and count the amount of mice in each drug regimen.\n",
    "# Create an empty list to fill with for loop\n",
    "measurement_quartile_spring=[]\n",
    "\n",
    "# Search through filtered_ca_la_box_data with '.loc[site_number, 'sample_measurement' column]' and get the quartile\n",
    "for i in filtered_ca_la_box_list:\n",
    "    location = spring_ca_la_box.loc[i, 'sample_measurement'].quantile(q=[.25, .5, .75])\n",
    "    # append results to measurement_quartile list before moving to next value in tumor_regimen_list\n",
    "    measurement_quartile_spring.append(location)\n",
    "measurement_quartile_spring"
   ]
  },
  {
   "cell_type": "code",
   "execution_count": 511,
   "metadata": {},
   "outputs": [],
   "source": [
    "iqr_all_spring = []\n",
    "\n",
    "# loop through measurement_quartile range (0-10). Find IQR by selecting one value at a time in the measurement_quartile list. \n",
    "for i in range(len(measurement_quartile_spring)):\n",
    "    iqr = (measurement_quartile_spring[i][0.75])-(measurement_quartile_spring[i][0.25])\n",
    "    # Append finding to iqr_all list before moving to next value\n",
    "    iqr_all_spring.append(iqr)\n",
    "#print(iqr_all_spring)\n",
    "\n",
    "# Round numbers to 1 number after decimal.\n",
    "round_iqr_all_spring = [round(num, 2) for num in iqr_all_spring]"
   ]
  },
  {
   "cell_type": "code",
   "execution_count": 512,
   "metadata": {},
   "outputs": [],
   "source": [
    "# Show list. Verify we have correct amount\n",
    "# iqr_all_spring"
   ]
  },
  {
   "cell_type": "code",
   "execution_count": 513,
   "metadata": {},
   "outputs": [
    {
     "data": {
      "text/plain": [
       "[{'Glendora, CA (16)': 6.58,\n",
       "  'Downtown LA (1103)': 8.0,\n",
       "  'Reseda, CA (1201)': 6.58,\n",
       "  'Long Beach, CA (4004)': 6.3,\n",
       "  'Santa Clarita, CA (6012)': 5.9,\n",
       "  'Lebec, CA (9034)': 1.25}]"
      ]
     },
     "execution_count": 513,
     "metadata": {},
     "output_type": "execute_result"
    }
   ],
   "source": [
    "# Combine both for loop generated list into one.\n",
    "measurements_iqr_all_spring = [dict(zip(headers_list, round_iqr_all_spring))]\n",
    "measurements_iqr_all_spring"
   ]
  },
  {
   "cell_type": "markdown",
   "metadata": {},
   "source": [
    "#### Begin Box Plots"
   ]
  },
  {
   "cell_type": "code",
   "execution_count": 514,
   "metadata": {},
   "outputs": [
    {
     "name": "stdout",
     "output_type": "stream",
     "text": [
      "[1.25, 5.9, 6.3, 6.58, 6.58, 8.0]\n"
     ]
    }
   ],
   "source": [
    "# Values for plotting\n",
    "box_values_spring = round_iqr_all_spring\n",
    "# Sort to determine outliers\n",
    "values_sorted_spring = sorted(box_values_spring)\n",
    "print(values_sorted_spring)"
   ]
  },
  {
   "cell_type": "code",
   "execution_count": 515,
   "metadata": {},
   "outputs": [],
   "source": [
    "# Sample measurement values per site location\n",
    "spring_site_16_measurements = spring_site_number_16['sample_measurement']\n",
    "spring_site_1103_measurements = spring_site_number_1103['sample_measurement']\n",
    "spring_site_1201_measurements = spring_site_number_1201['sample_measurement']\n",
    "spring_site_4004_measurements = spring_site_number_4004['sample_measurement']\n",
    "spring_site_6012_measurements = spring_site_number_6012['sample_measurement']\n",
    "spring_site_9034_measurements = spring_site_number_9034['sample_measurement']"
   ]
  },
  {
   "cell_type": "code",
   "execution_count": 516,
   "metadata": {},
   "outputs": [
    {
     "data": {
      "image/png": "[encoded data removed]",
      "text/plain": [
       "<Figure size 720x720 with 1 Axes>"
      ]
     },
     "metadata": {
      "needs_background": "light"
     },
     "output_type": "display_data"
    },
    {
     "name": "stdout",
     "output_type": "stream",
     "text": [
      "Number of Samples Measured: 10365\n"
     ]
    }
   ],
   "source": [
    "# Generate a box plot of the sample measurement of each site location, annually\n",
    "measurement_plot_info = [spring_site_16_measurements,spring_site_1103_measurements,spring_site_1201_measurements,spring_site_4004_measurements,spring_site_6012_measurements,spring_site_9034_measurements]\n",
    "plot_labels = ['Site 1103']\n",
    "fig, ax = plt.subplots(figsize=(10, 10))\n",
    "pos = np.array(range(len(measurement_plot_info))) + 1\n",
    "bp = ax.boxplot(measurement_plot_info, sym='k+', showfliers=True)\n",
    "\n",
    "ax.set_xticklabels(headers_list, rotation=45)\n",
    "ax.set_xlabel('Site Locations: Los Angeles')\n",
    "ax.set_ylabel('PM 2.5 Measurements')\n",
    "ax.set_title('Los Angeles County, CA: Seasonal Site Location Sample Measurements')\n",
    "plt.show()\n",
    "print(f'Number of Samples Measured: {len(spring_ca_la)}')"
   ]
  },
  {
   "cell_type": "markdown",
   "metadata": {},
   "source": [
    "Potential Outliers"
   ]
  },
  {
   "cell_type": "markdown",
   "metadata": {},
   "source": [
    "Filtering by outlier values and dates may tell us which day/month of the year has larger than normal air pollution measurements. "
   ]
  },
  {
   "cell_type": "code",
   "execution_count": 517,
   "metadata": {},
   "outputs": [
    {
     "name": "stdout",
     "output_type": "stream",
     "text": [
      "Total amount samples in set: 2086\n",
      "Total amount of outliers: 83\n",
      "Glendora Outlier values: [23.3 23.3 23.3 23.3 23.3 23.3 23.3 23.3 23.5 23.5 23.5 23.5 23.5 23.5\n",
      " 23.7 23.8 23.8 23.8 24.  24.  24.  24.3 24.3 24.3 24.3 24.3 24.4 24.5\n",
      " 24.5 24.5 24.5 24.5 24.5 24.5 24.5 24.5 24.5 24.5 24.5 24.5 24.7 24.7\n",
      " 24.7 24.7 24.7 24.9 25.  25.  25.  25.  25.  25.  25.  25.2 25.3 25.3\n",
      " 25.5 25.5 25.5 25.7 26.  26.  26.2 26.5 26.5 26.5 26.9 27.  27.  27.5\n",
      " 27.5 27.7 28.2 28.2 28.4 28.4 28.7 28.7 28.9 28.9 29.2 29.5 31.1]\n"
     ]
    }
   ],
   "source": [
    "# Glendora, CA (16) Outliers\n",
    "glendora_spring_outliers = bp[\"fliers\"][0].get_data()[1]\n",
    "glendora_spring_outliers.sort(axis=-1, kind='quicksort', order=None)\n",
    "print(f'Total amount samples in set: {len(spring_site_16_measurements)}')\n",
    "print(f'Total amount of outliers: {len(glendora_spring_outliers)}')\n",
    "print(f'Glendora Outlier values: {glendora_spring_outliers}')"
   ]
  },
  {
   "cell_type": "code",
   "execution_count": 518,
   "metadata": {},
   "outputs": [
    {
     "name": "stdout",
     "output_type": "stream",
     "text": [
      "Total amount samples in set: 2194\n",
      "Total amount of outliers: 54\n",
      "Downtown LA Outlier values: [27. 27. 27. 27. 27. 27. 27. 27. 27. 27. 27. 28. 28. 28. 28. 28. 28. 28.\n",
      " 29. 29. 29. 29. 29. 30. 30. 30. 30. 30. 31. 31. 31. 31. 31. 31. 31. 31.\n",
      " 32. 32. 33. 33. 33. 33. 34. 34. 34. 34. 35. 35. 38. 38. 38. 38. 42. 43.]\n"
     ]
    }
   ],
   "source": [
    "# Downtown LA, CA (1103) Outliers\n",
    "la_spring_outliers = bp[\"fliers\"][1].get_data()[1]\n",
    "la_spring_outliers.sort(axis=-1, kind='quicksort', order=None)\n",
    "print(f'Total amount samples in set: {len(spring_site_1103_measurements)}')\n",
    "print(f'Total amount of outliers: {len(la_spring_outliers)}')\n",
    "print(f'Downtown LA Outlier values: {la_spring_outliers}')"
   ]
  },
  {
   "cell_type": "code",
   "execution_count": 519,
   "metadata": {},
   "outputs": [
    {
     "name": "stdout",
     "output_type": "stream",
     "text": [
      "Total amount samples in set: 2170\n",
      "Total amount of outliers: 62\n",
      "Reseda Outlier values: [21.9 21.9 21.9 21.9 22.1 22.1 22.1 22.1 22.1 22.1 22.3 22.4 22.4 22.4\n",
      " 22.5 22.5 22.6 22.6 22.8 22.8 23.3 23.3 23.3 23.3 23.6 23.6 23.8 23.8\n",
      " 23.8 24.  24.  24.3 24.5 24.7 24.8 24.8 24.8 24.8 25.  25.1 25.3 25.3\n",
      " 25.5 26.5 26.7 26.7 26.8 27.  27.2 27.2 27.3 27.5 28.  28.3 28.5 28.7\n",
      " 29.  29.3 29.8 30.  33.4 39.9]\n"
     ]
    }
   ],
   "source": [
    "# Reseda, CA (1201) Outliers\n",
    "reseda_spring_outliers = bp[\"fliers\"][2].get_data()[1]\n",
    "reseda_spring_outliers.sort(axis=-1, kind='quicksort', order=None)\n",
    "print(f'Total amount samples in set: {len(spring_site_1201_measurements)}')\n",
    "print(f'Total amount of outliers: {len(reseda_spring_outliers)}')\n",
    "print(f'Reseda Outlier values: {reseda_spring_outliers}')"
   ]
  },
  {
   "cell_type": "code",
   "execution_count": 520,
   "metadata": {},
   "outputs": [
    {
     "name": "stdout",
     "output_type": "stream",
     "text": [
      "Total amount samples in set: 2180\n",
      "Total amount of outliers: 52\n",
      "Long Beach Outlier values: [20.7 20.7 20.7 21.  21.  21.2 21.2 21.2 21.4 21.4 21.7 21.7 21.7 21.9\n",
      " 21.9 22.1 22.1 22.2 22.4 22.4 22.6 22.6 22.6 22.9 23.2 23.4 23.4 23.4\n",
      " 23.4 23.4 23.6 23.9 23.9 24.1 24.3 24.3 24.4 24.8 24.8 25.6 26.3 26.5\n",
      " 26.8 27.3 28.3 28.3 28.3 28.6 29.  29.8 31.8 67.5]\n"
     ]
    }
   ],
   "source": [
    "# Long Beach, CA (4004) Outliers\n",
    "lb_spring_outliers = bp[\"fliers\"][3].get_data()[1]\n",
    "lb_spring_outliers.sort(axis=-1, kind='quicksort', order=None)\n",
    "print(f'Total amount samples in set: {len(spring_site_4004_measurements)}')\n",
    "print(f'Total amount of outliers: {len(lb_spring_outliers)}')\n",
    "print(f'Long Beach Outlier values: {lb_spring_outliers}')"
   ]
  },
  {
   "cell_type": "code",
   "execution_count": 521,
   "metadata": {},
   "outputs": [
    {
     "name": "stdout",
     "output_type": "stream",
     "text": [
      "Total amount samples in set: 1708\n",
      "Total amount of outliers: 96\n",
      "Santa Clarita Outlier values: [17.7 17.7 17.7 17.7 17.7 17.8 17.9 17.9 17.9 17.9 18.  18.  18.2 18.2\n",
      " 18.2 18.2 18.4 18.4 18.4 18.4 18.4 18.5 18.7 18.7 18.7 18.7 18.7 18.9\n",
      " 18.9 18.9 18.9 19.  19.  19.1 19.2 19.2 19.2 19.4 19.5 19.5 19.5 19.5\n",
      " 19.7 19.7 19.7 19.9 20.  20.2 20.2 20.2 20.2 20.5 20.7 20.7 20.7 20.9\n",
      " 20.9 20.9 20.9 20.9 21.4 21.4 21.4 21.4 21.6 21.6 21.9 22.2 22.2 22.4\n",
      " 22.6 22.6 22.7 22.9 23.4 23.6 23.8 23.8 23.9 24.1 24.3 24.3 24.3 24.3\n",
      " 24.4 25.  25.  25.3 25.3 25.5 26.1 26.5 26.6 28.6 28.7 29.2]\n"
     ]
    }
   ],
   "source": [
    "# Santa Clarita, CA (6012) Outliers\n",
    "santaclarita_spring_outliers = bp[\"fliers\"][4].get_data()[1]\n",
    "santaclarita_spring_outliers.sort(axis=-1, kind='quicksort', order=None)\n",
    "print(f'Total amount samples in set: {len(spring_site_6012_measurements)}')\n",
    "print(f'Total amount of outliers: {len(santaclarita_spring_outliers)}')\n",
    "print(f'Santa Clarita Outlier values: {santaclarita_spring_outliers}')"
   ]
  },
  {
   "cell_type": "code",
   "execution_count": 522,
   "metadata": {},
   "outputs": [
    {
     "name": "stdout",
     "output_type": "stream",
     "text": [
      "Total amount samples in set: 27\n",
      "Total amount of outliers: 1\n",
      "Lebec Outlier values: [10.4]\n"
     ]
    }
   ],
   "source": [
    "# Lebec, CA (9034) Outliers\n",
    "Lebec_spring_outliers = bp[\"fliers\"][5].get_data()[1]\n",
    "Lebec_spring_outliers.sort(axis=-1, kind='quicksort', order=None)\n",
    "print(f'Total amount samples in set: {len(spring_site_9034_measurements)}')\n",
    "print(f'Total amount of outliers: {len(Lebec_spring_outliers)}')\n",
    "print(f'Lebec Outlier values: {Lebec_spring_outliers}')"
   ]
  },
  {
   "cell_type": "code",
   "execution_count": null,
   "metadata": {},
   "outputs": [],
   "source": []
  },
  {
   "cell_type": "code",
   "execution_count": null,
   "metadata": {},
   "outputs": [],
   "source": []
  },
  {
   "cell_type": "markdown",
   "metadata": {},
   "source": [
    "# LEFT OFF HERE. 5/15/2020. 10:12pm"
   ]
  },
  {
   "cell_type": "markdown",
   "metadata": {},
   "source": [
    "### Season: Summer"
   ]
  },
  {
   "cell_type": "code",
   "execution_count": 42,
   "metadata": {},
   "outputs": [
    {
     "data": {
      "text/html": [
       "<div>\n",
       "<style scoped>\n",
       "    .dataframe tbody tr th:only-of-type {\n",
       "        vertical-align: middle;\n",
       "    }\n",
       "\n",
       "    .dataframe tbody tr th {\n",
       "        vertical-align: top;\n",
       "    }\n",
       "\n",
       "    .dataframe thead th {\n",
       "        text-align: right;\n",
       "    }\n",
       "</style>\n",
       "<table border=\"1\" class=\"dataframe\">\n",
       "  <thead>\n",
       "    <tr style=\"text-align: right;\">\n",
       "      <th></th>\n",
       "      <th>county</th>\n",
       "      <th>site_number</th>\n",
       "      <th>sample_measurement</th>\n",
       "      <th>latitude</th>\n",
       "      <th>longitude</th>\n",
       "      <th>time_local</th>\n",
       "      <th>time_gmt</th>\n",
       "      <th>date_of_last_change</th>\n",
       "    </tr>\n",
       "    <tr>\n",
       "      <th>date_gmt</th>\n",
       "      <th></th>\n",
       "      <th></th>\n",
       "      <th></th>\n",
       "      <th></th>\n",
       "      <th></th>\n",
       "      <th></th>\n",
       "      <th></th>\n",
       "      <th></th>\n",
       "    </tr>\n",
       "  </thead>\n",
       "  <tbody>\n",
       "    <tr>\n",
       "      <th>2019-06-01</th>\n",
       "      <td>Los Angeles</td>\n",
       "      <td>1103</td>\n",
       "      <td>17.0</td>\n",
       "      <td>34.06659</td>\n",
       "      <td>-118.22688</td>\n",
       "      <td>16:00</td>\n",
       "      <td>00:00</td>\n",
       "      <td>2019-10-07</td>\n",
       "    </tr>\n",
       "    <tr>\n",
       "      <th>2019-06-01</th>\n",
       "      <td>Los Angeles</td>\n",
       "      <td>4004</td>\n",
       "      <td>8.2</td>\n",
       "      <td>33.79236</td>\n",
       "      <td>-118.17533</td>\n",
       "      <td>16:00</td>\n",
       "      <td>00:00</td>\n",
       "      <td>2019-10-07</td>\n",
       "    </tr>\n",
       "    <tr>\n",
       "      <th>2019-06-01</th>\n",
       "      <td>Los Angeles</td>\n",
       "      <td>6012</td>\n",
       "      <td>14.8</td>\n",
       "      <td>34.38344</td>\n",
       "      <td>-118.52840</td>\n",
       "      <td>16:00</td>\n",
       "      <td>00:00</td>\n",
       "      <td>2019-10-07</td>\n",
       "    </tr>\n",
       "    <tr>\n",
       "      <th>2019-06-01</th>\n",
       "      <td>Los Angeles</td>\n",
       "      <td>16</td>\n",
       "      <td>17.4</td>\n",
       "      <td>34.14435</td>\n",
       "      <td>-117.85036</td>\n",
       "      <td>16:00</td>\n",
       "      <td>00:00</td>\n",
       "      <td>2019-10-02</td>\n",
       "    </tr>\n",
       "    <tr>\n",
       "      <th>2019-06-01</th>\n",
       "      <td>Los Angeles</td>\n",
       "      <td>1201</td>\n",
       "      <td>17.0</td>\n",
       "      <td>34.19925</td>\n",
       "      <td>-118.53276</td>\n",
       "      <td>16:00</td>\n",
       "      <td>00:00</td>\n",
       "      <td>2019-10-07</td>\n",
       "    </tr>\n",
       "    <tr>\n",
       "      <th>...</th>\n",
       "      <td>...</td>\n",
       "      <td>...</td>\n",
       "      <td>...</td>\n",
       "      <td>...</td>\n",
       "      <td>...</td>\n",
       "      <td>...</td>\n",
       "      <td>...</td>\n",
       "      <td>...</td>\n",
       "    </tr>\n",
       "    <tr>\n",
       "      <th>2019-08-31</th>\n",
       "      <td>Los Angeles</td>\n",
       "      <td>1103</td>\n",
       "      <td>40.0</td>\n",
       "      <td>34.06659</td>\n",
       "      <td>-118.22688</td>\n",
       "      <td>15:00</td>\n",
       "      <td>23:00</td>\n",
       "      <td>2020-02-11</td>\n",
       "    </tr>\n",
       "    <tr>\n",
       "      <th>2019-08-31</th>\n",
       "      <td>Los Angeles</td>\n",
       "      <td>4004</td>\n",
       "      <td>15.6</td>\n",
       "      <td>33.79236</td>\n",
       "      <td>-118.17533</td>\n",
       "      <td>15:00</td>\n",
       "      <td>23:00</td>\n",
       "      <td>2020-02-10</td>\n",
       "    </tr>\n",
       "    <tr>\n",
       "      <th>2019-08-31</th>\n",
       "      <td>Los Angeles</td>\n",
       "      <td>6012</td>\n",
       "      <td>3.2</td>\n",
       "      <td>34.38344</td>\n",
       "      <td>-118.52840</td>\n",
       "      <td>15:00</td>\n",
       "      <td>23:00</td>\n",
       "      <td>2020-02-10</td>\n",
       "    </tr>\n",
       "    <tr>\n",
       "      <th>2019-08-31</th>\n",
       "      <td>Los Angeles</td>\n",
       "      <td>16</td>\n",
       "      <td>19.8</td>\n",
       "      <td>34.14435</td>\n",
       "      <td>-117.85036</td>\n",
       "      <td>15:00</td>\n",
       "      <td>23:00</td>\n",
       "      <td>2020-02-06</td>\n",
       "    </tr>\n",
       "    <tr>\n",
       "      <th>2019-08-31</th>\n",
       "      <td>Los Angeles</td>\n",
       "      <td>1201</td>\n",
       "      <td>11.6</td>\n",
       "      <td>34.19925</td>\n",
       "      <td>-118.53276</td>\n",
       "      <td>15:00</td>\n",
       "      <td>23:00</td>\n",
       "      <td>2020-02-10</td>\n",
       "    </tr>\n",
       "  </tbody>\n",
       "</table>\n",
       "<p>10885 rows × 8 columns</p>\n",
       "</div>"
      ],
      "text/plain": [
       "                 county  site_number  sample_measurement  latitude  longitude  \\\n",
       "date_gmt                                                                        \n",
       "2019-06-01  Los Angeles         1103                17.0  34.06659 -118.22688   \n",
       "2019-06-01  Los Angeles         4004                 8.2  33.79236 -118.17533   \n",
       "2019-06-01  Los Angeles         6012                14.8  34.38344 -118.52840   \n",
       "2019-06-01  Los Angeles           16                17.4  34.14435 -117.85036   \n",
       "2019-06-01  Los Angeles         1201                17.0  34.19925 -118.53276   \n",
       "...                 ...          ...                 ...       ...        ...   \n",
       "2019-08-31  Los Angeles         1103                40.0  34.06659 -118.22688   \n",
       "2019-08-31  Los Angeles         4004                15.6  33.79236 -118.17533   \n",
       "2019-08-31  Los Angeles         6012                 3.2  34.38344 -118.52840   \n",
       "2019-08-31  Los Angeles           16                19.8  34.14435 -117.85036   \n",
       "2019-08-31  Los Angeles         1201                11.6  34.19925 -118.53276   \n",
       "\n",
       "           time_local time_gmt date_of_last_change  \n",
       "date_gmt                                            \n",
       "2019-06-01      16:00    00:00          2019-10-07  \n",
       "2019-06-01      16:00    00:00          2019-10-07  \n",
       "2019-06-01      16:00    00:00          2019-10-07  \n",
       "2019-06-01      16:00    00:00          2019-10-02  \n",
       "2019-06-01      16:00    00:00          2019-10-07  \n",
       "...               ...      ...                 ...  \n",
       "2019-08-31      15:00    23:00          2020-02-11  \n",
       "2019-08-31      15:00    23:00          2020-02-10  \n",
       "2019-08-31      15:00    23:00          2020-02-10  \n",
       "2019-08-31      15:00    23:00          2020-02-06  \n",
       "2019-08-31      15:00    23:00          2020-02-10  \n",
       "\n",
       "[10885 rows x 8 columns]"
      ]
     },
     "execution_count": 42,
     "metadata": {},
     "output_type": "execute_result"
    }
   ],
   "source": [
    "# Sort by date_gmt and time_gmt\n",
    "summer_ca_la = ca_la_clean_data['2019-06-01':'2019-08-31'].sort_values([\"date_gmt\", \"time_gmt\"])\n",
    "summer_ca_la"
   ]
  },
  {
   "cell_type": "code",
   "execution_count": null,
   "metadata": {},
   "outputs": [],
   "source": []
  },
  {
   "cell_type": "code",
   "execution_count": null,
   "metadata": {},
   "outputs": [],
   "source": []
  },
  {
   "cell_type": "code",
   "execution_count": null,
   "metadata": {},
   "outputs": [],
   "source": []
  },
  {
   "cell_type": "markdown",
   "metadata": {},
   "source": [
    "### Season: Fall"
   ]
  },
  {
   "cell_type": "code",
   "execution_count": 43,
   "metadata": {},
   "outputs": [
    {
     "data": {
      "text/html": [
       "<div>\n",
       "<style scoped>\n",
       "    .dataframe tbody tr th:only-of-type {\n",
       "        vertical-align: middle;\n",
       "    }\n",
       "\n",
       "    .dataframe tbody tr th {\n",
       "        vertical-align: top;\n",
       "    }\n",
       "\n",
       "    .dataframe thead th {\n",
       "        text-align: right;\n",
       "    }\n",
       "</style>\n",
       "<table border=\"1\" class=\"dataframe\">\n",
       "  <thead>\n",
       "    <tr style=\"text-align: right;\">\n",
       "      <th></th>\n",
       "      <th>county</th>\n",
       "      <th>site_number</th>\n",
       "      <th>sample_measurement</th>\n",
       "      <th>latitude</th>\n",
       "      <th>longitude</th>\n",
       "      <th>time_local</th>\n",
       "      <th>time_gmt</th>\n",
       "      <th>date_of_last_change</th>\n",
       "    </tr>\n",
       "    <tr>\n",
       "      <th>date_gmt</th>\n",
       "      <th></th>\n",
       "      <th></th>\n",
       "      <th></th>\n",
       "      <th></th>\n",
       "      <th></th>\n",
       "      <th></th>\n",
       "      <th></th>\n",
       "      <th></th>\n",
       "    </tr>\n",
       "  </thead>\n",
       "  <tbody>\n",
       "    <tr>\n",
       "      <th>2019-09-01</th>\n",
       "      <td>Los Angeles</td>\n",
       "      <td>1103</td>\n",
       "      <td>15.0</td>\n",
       "      <td>34.06659</td>\n",
       "      <td>-118.22688</td>\n",
       "      <td>16:00</td>\n",
       "      <td>00:00</td>\n",
       "      <td>2020-02-11</td>\n",
       "    </tr>\n",
       "    <tr>\n",
       "      <th>2019-09-01</th>\n",
       "      <td>Los Angeles</td>\n",
       "      <td>4004</td>\n",
       "      <td>13.1</td>\n",
       "      <td>33.79236</td>\n",
       "      <td>-118.17533</td>\n",
       "      <td>16:00</td>\n",
       "      <td>00:00</td>\n",
       "      <td>2020-02-10</td>\n",
       "    </tr>\n",
       "    <tr>\n",
       "      <th>2019-09-01</th>\n",
       "      <td>Los Angeles</td>\n",
       "      <td>6012</td>\n",
       "      <td>1.8</td>\n",
       "      <td>34.38344</td>\n",
       "      <td>-118.52840</td>\n",
       "      <td>16:00</td>\n",
       "      <td>00:00</td>\n",
       "      <td>2020-02-10</td>\n",
       "    </tr>\n",
       "    <tr>\n",
       "      <th>2019-09-01</th>\n",
       "      <td>Los Angeles</td>\n",
       "      <td>16</td>\n",
       "      <td>15.4</td>\n",
       "      <td>34.14435</td>\n",
       "      <td>-117.85036</td>\n",
       "      <td>16:00</td>\n",
       "      <td>00:00</td>\n",
       "      <td>2020-02-06</td>\n",
       "    </tr>\n",
       "    <tr>\n",
       "      <th>2019-09-01</th>\n",
       "      <td>Los Angeles</td>\n",
       "      <td>1201</td>\n",
       "      <td>10.4</td>\n",
       "      <td>34.19925</td>\n",
       "      <td>-118.53276</td>\n",
       "      <td>16:00</td>\n",
       "      <td>00:00</td>\n",
       "      <td>2020-02-10</td>\n",
       "    </tr>\n",
       "    <tr>\n",
       "      <th>...</th>\n",
       "      <td>...</td>\n",
       "      <td>...</td>\n",
       "      <td>...</td>\n",
       "      <td>...</td>\n",
       "      <td>...</td>\n",
       "      <td>...</td>\n",
       "      <td>...</td>\n",
       "      <td>...</td>\n",
       "    </tr>\n",
       "    <tr>\n",
       "      <th>2019-11-30</th>\n",
       "      <td>Los Angeles</td>\n",
       "      <td>1103</td>\n",
       "      <td>5.0</td>\n",
       "      <td>34.06659</td>\n",
       "      <td>-118.22688</td>\n",
       "      <td>15:00</td>\n",
       "      <td>23:00</td>\n",
       "      <td>2020-03-31</td>\n",
       "    </tr>\n",
       "    <tr>\n",
       "      <th>2019-11-30</th>\n",
       "      <td>Los Angeles</td>\n",
       "      <td>4004</td>\n",
       "      <td>2.9</td>\n",
       "      <td>33.79236</td>\n",
       "      <td>-118.17533</td>\n",
       "      <td>15:00</td>\n",
       "      <td>23:00</td>\n",
       "      <td>2020-03-31</td>\n",
       "    </tr>\n",
       "    <tr>\n",
       "      <th>2019-11-30</th>\n",
       "      <td>Los Angeles</td>\n",
       "      <td>6012</td>\n",
       "      <td>5.4</td>\n",
       "      <td>34.38344</td>\n",
       "      <td>-118.52840</td>\n",
       "      <td>15:00</td>\n",
       "      <td>23:00</td>\n",
       "      <td>2020-03-25</td>\n",
       "    </tr>\n",
       "    <tr>\n",
       "      <th>2019-11-30</th>\n",
       "      <td>Los Angeles</td>\n",
       "      <td>16</td>\n",
       "      <td>7.0</td>\n",
       "      <td>34.14435</td>\n",
       "      <td>-117.85036</td>\n",
       "      <td>15:00</td>\n",
       "      <td>23:00</td>\n",
       "      <td>2020-03-24</td>\n",
       "    </tr>\n",
       "    <tr>\n",
       "      <th>2019-11-30</th>\n",
       "      <td>Los Angeles</td>\n",
       "      <td>1201</td>\n",
       "      <td>16.4</td>\n",
       "      <td>34.19925</td>\n",
       "      <td>-118.53276</td>\n",
       "      <td>15:00</td>\n",
       "      <td>23:00</td>\n",
       "      <td>2020-03-25</td>\n",
       "    </tr>\n",
       "  </tbody>\n",
       "</table>\n",
       "<p>10404 rows × 8 columns</p>\n",
       "</div>"
      ],
      "text/plain": [
       "                 county  site_number  sample_measurement  latitude  longitude  \\\n",
       "date_gmt                                                                        \n",
       "2019-09-01  Los Angeles         1103                15.0  34.06659 -118.22688   \n",
       "2019-09-01  Los Angeles         4004                13.1  33.79236 -118.17533   \n",
       "2019-09-01  Los Angeles         6012                 1.8  34.38344 -118.52840   \n",
       "2019-09-01  Los Angeles           16                15.4  34.14435 -117.85036   \n",
       "2019-09-01  Los Angeles         1201                10.4  34.19925 -118.53276   \n",
       "...                 ...          ...                 ...       ...        ...   \n",
       "2019-11-30  Los Angeles         1103                 5.0  34.06659 -118.22688   \n",
       "2019-11-30  Los Angeles         4004                 2.9  33.79236 -118.17533   \n",
       "2019-11-30  Los Angeles         6012                 5.4  34.38344 -118.52840   \n",
       "2019-11-30  Los Angeles           16                 7.0  34.14435 -117.85036   \n",
       "2019-11-30  Los Angeles         1201                16.4  34.19925 -118.53276   \n",
       "\n",
       "           time_local time_gmt date_of_last_change  \n",
       "date_gmt                                            \n",
       "2019-09-01      16:00    00:00          2020-02-11  \n",
       "2019-09-01      16:00    00:00          2020-02-10  \n",
       "2019-09-01      16:00    00:00          2020-02-10  \n",
       "2019-09-01      16:00    00:00          2020-02-06  \n",
       "2019-09-01      16:00    00:00          2020-02-10  \n",
       "...               ...      ...                 ...  \n",
       "2019-11-30      15:00    23:00          2020-03-31  \n",
       "2019-11-30      15:00    23:00          2020-03-31  \n",
       "2019-11-30      15:00    23:00          2020-03-25  \n",
       "2019-11-30      15:00    23:00          2020-03-24  \n",
       "2019-11-30      15:00    23:00          2020-03-25  \n",
       "\n",
       "[10404 rows x 8 columns]"
      ]
     },
     "execution_count": 43,
     "metadata": {},
     "output_type": "execute_result"
    }
   ],
   "source": [
    "# Sort by date_gmt and time_gmt\n",
    "fall_ca_la = ca_la_clean_data['2019-09-01':'2019-11-30'].sort_values([\"date_gmt\", \"time_gmt\"])\n",
    "fall_ca_la"
   ]
  },
  {
   "cell_type": "markdown",
   "metadata": {},
   "source": [
    "### Season: Winter"
   ]
  },
  {
   "cell_type": "code",
   "execution_count": 47,
   "metadata": {},
   "outputs": [
    {
     "data": {
      "text/html": [
       "<div>\n",
       "<style scoped>\n",
       "    .dataframe tbody tr th:only-of-type {\n",
       "        vertical-align: middle;\n",
       "    }\n",
       "\n",
       "    .dataframe tbody tr th {\n",
       "        vertical-align: top;\n",
       "    }\n",
       "\n",
       "    .dataframe thead th {\n",
       "        text-align: right;\n",
       "    }\n",
       "</style>\n",
       "<table border=\"1\" class=\"dataframe\">\n",
       "  <thead>\n",
       "    <tr style=\"text-align: right;\">\n",
       "      <th></th>\n",
       "      <th>county</th>\n",
       "      <th>site_number</th>\n",
       "      <th>sample_measurement</th>\n",
       "      <th>latitude</th>\n",
       "      <th>longitude</th>\n",
       "      <th>time_local</th>\n",
       "      <th>time_gmt</th>\n",
       "      <th>date_of_last_change</th>\n",
       "    </tr>\n",
       "    <tr>\n",
       "      <th>date_gmt</th>\n",
       "      <th></th>\n",
       "      <th></th>\n",
       "      <th></th>\n",
       "      <th></th>\n",
       "      <th></th>\n",
       "      <th></th>\n",
       "      <th></th>\n",
       "      <th></th>\n",
       "    </tr>\n",
       "  </thead>\n",
       "  <tbody>\n",
       "    <tr>\n",
       "      <th>2019-01-01</th>\n",
       "      <td>Los Angeles</td>\n",
       "      <td>1103</td>\n",
       "      <td>45.0</td>\n",
       "      <td>34.06659</td>\n",
       "      <td>-118.22688</td>\n",
       "      <td>00:00</td>\n",
       "      <td>08:00</td>\n",
       "      <td>2019-06-27</td>\n",
       "    </tr>\n",
       "    <tr>\n",
       "      <th>2019-01-01</th>\n",
       "      <td>Los Angeles</td>\n",
       "      <td>4004</td>\n",
       "      <td>9.4</td>\n",
       "      <td>33.79236</td>\n",
       "      <td>-118.17533</td>\n",
       "      <td>00:00</td>\n",
       "      <td>08:00</td>\n",
       "      <td>2019-06-24</td>\n",
       "    </tr>\n",
       "    <tr>\n",
       "      <th>2019-01-01</th>\n",
       "      <td>Los Angeles</td>\n",
       "      <td>16</td>\n",
       "      <td>6.2</td>\n",
       "      <td>34.14435</td>\n",
       "      <td>-117.85036</td>\n",
       "      <td>00:00</td>\n",
       "      <td>08:00</td>\n",
       "      <td>2019-06-24</td>\n",
       "    </tr>\n",
       "    <tr>\n",
       "      <th>2019-01-01</th>\n",
       "      <td>Los Angeles</td>\n",
       "      <td>1201</td>\n",
       "      <td>5.8</td>\n",
       "      <td>34.19925</td>\n",
       "      <td>-118.53276</td>\n",
       "      <td>00:00</td>\n",
       "      <td>08:00</td>\n",
       "      <td>2019-06-24</td>\n",
       "    </tr>\n",
       "    <tr>\n",
       "      <th>2019-01-01</th>\n",
       "      <td>Los Angeles</td>\n",
       "      <td>1103</td>\n",
       "      <td>30.0</td>\n",
       "      <td>34.06659</td>\n",
       "      <td>-118.22688</td>\n",
       "      <td>01:00</td>\n",
       "      <td>09:00</td>\n",
       "      <td>2019-06-27</td>\n",
       "    </tr>\n",
       "    <tr>\n",
       "      <th>...</th>\n",
       "      <td>...</td>\n",
       "      <td>...</td>\n",
       "      <td>...</td>\n",
       "      <td>...</td>\n",
       "      <td>...</td>\n",
       "      <td>...</td>\n",
       "      <td>...</td>\n",
       "      <td>...</td>\n",
       "    </tr>\n",
       "    <tr>\n",
       "      <th>2019-02-28</th>\n",
       "      <td>Los Angeles</td>\n",
       "      <td>1103</td>\n",
       "      <td>8.0</td>\n",
       "      <td>34.06659</td>\n",
       "      <td>-118.22688</td>\n",
       "      <td>15:00</td>\n",
       "      <td>23:00</td>\n",
       "      <td>2019-06-27</td>\n",
       "    </tr>\n",
       "    <tr>\n",
       "      <th>2019-02-28</th>\n",
       "      <td>Los Angeles</td>\n",
       "      <td>4004</td>\n",
       "      <td>3.1</td>\n",
       "      <td>33.79236</td>\n",
       "      <td>-118.17533</td>\n",
       "      <td>15:00</td>\n",
       "      <td>23:00</td>\n",
       "      <td>2019-06-24</td>\n",
       "    </tr>\n",
       "    <tr>\n",
       "      <th>2019-02-28</th>\n",
       "      <td>Los Angeles</td>\n",
       "      <td>6012</td>\n",
       "      <td>3.0</td>\n",
       "      <td>34.38344</td>\n",
       "      <td>-118.52840</td>\n",
       "      <td>15:00</td>\n",
       "      <td>23:00</td>\n",
       "      <td>2019-06-24</td>\n",
       "    </tr>\n",
       "    <tr>\n",
       "      <th>2019-02-28</th>\n",
       "      <td>Los Angeles</td>\n",
       "      <td>16</td>\n",
       "      <td>11.7</td>\n",
       "      <td>34.14435</td>\n",
       "      <td>-117.85036</td>\n",
       "      <td>15:00</td>\n",
       "      <td>23:00</td>\n",
       "      <td>2019-06-24</td>\n",
       "    </tr>\n",
       "    <tr>\n",
       "      <th>2019-02-28</th>\n",
       "      <td>Los Angeles</td>\n",
       "      <td>1201</td>\n",
       "      <td>7.4</td>\n",
       "      <td>34.19925</td>\n",
       "      <td>-118.53276</td>\n",
       "      <td>15:00</td>\n",
       "      <td>23:00</td>\n",
       "      <td>2019-06-24</td>\n",
       "    </tr>\n",
       "  </tbody>\n",
       "</table>\n",
       "<p>6588 rows × 8 columns</p>\n",
       "</div>"
      ],
      "text/plain": [
       "                 county  site_number  sample_measurement  latitude  longitude  \\\n",
       "date_gmt                                                                        \n",
       "2019-01-01  Los Angeles         1103                45.0  34.06659 -118.22688   \n",
       "2019-01-01  Los Angeles         4004                 9.4  33.79236 -118.17533   \n",
       "2019-01-01  Los Angeles           16                 6.2  34.14435 -117.85036   \n",
       "2019-01-01  Los Angeles         1201                 5.8  34.19925 -118.53276   \n",
       "2019-01-01  Los Angeles         1103                30.0  34.06659 -118.22688   \n",
       "...                 ...          ...                 ...       ...        ...   \n",
       "2019-02-28  Los Angeles         1103                 8.0  34.06659 -118.22688   \n",
       "2019-02-28  Los Angeles         4004                 3.1  33.79236 -118.17533   \n",
       "2019-02-28  Los Angeles         6012                 3.0  34.38344 -118.52840   \n",
       "2019-02-28  Los Angeles           16                11.7  34.14435 -117.85036   \n",
       "2019-02-28  Los Angeles         1201                 7.4  34.19925 -118.53276   \n",
       "\n",
       "           time_local time_gmt date_of_last_change  \n",
       "date_gmt                                            \n",
       "2019-01-01      00:00    08:00          2019-06-27  \n",
       "2019-01-01      00:00    08:00          2019-06-24  \n",
       "2019-01-01      00:00    08:00          2019-06-24  \n",
       "2019-01-01      00:00    08:00          2019-06-24  \n",
       "2019-01-01      01:00    09:00          2019-06-27  \n",
       "...               ...      ...                 ...  \n",
       "2019-02-28      15:00    23:00          2019-06-27  \n",
       "2019-02-28      15:00    23:00          2019-06-24  \n",
       "2019-02-28      15:00    23:00          2019-06-24  \n",
       "2019-02-28      15:00    23:00          2019-06-24  \n",
       "2019-02-28      15:00    23:00          2019-06-24  \n",
       "\n",
       "[6588 rows x 8 columns]"
      ]
     },
     "execution_count": 47,
     "metadata": {},
     "output_type": "execute_result"
    }
   ],
   "source": [
    "# Beginning of the year Winter\n",
    "# Sort by date_gmt and time_gmt\n",
    "winter_begin_ca_la = ca_la_clean_data['2019-01-01':'2019-02'].sort_values([\"date_gmt\", \"time_gmt\"])\n",
    "winter_begin_ca_la"
   ]
  },
  {
   "cell_type": "code",
   "execution_count": 48,
   "metadata": {},
   "outputs": [
    {
     "data": {
      "text/html": [
       "<div>\n",
       "<style scoped>\n",
       "    .dataframe tbody tr th:only-of-type {\n",
       "        vertical-align: middle;\n",
       "    }\n",
       "\n",
       "    .dataframe tbody tr th {\n",
       "        vertical-align: top;\n",
       "    }\n",
       "\n",
       "    .dataframe thead th {\n",
       "        text-align: right;\n",
       "    }\n",
       "</style>\n",
       "<table border=\"1\" class=\"dataframe\">\n",
       "  <thead>\n",
       "    <tr style=\"text-align: right;\">\n",
       "      <th></th>\n",
       "      <th>county</th>\n",
       "      <th>site_number</th>\n",
       "      <th>sample_measurement</th>\n",
       "      <th>latitude</th>\n",
       "      <th>longitude</th>\n",
       "      <th>time_local</th>\n",
       "      <th>time_gmt</th>\n",
       "      <th>date_of_last_change</th>\n",
       "    </tr>\n",
       "    <tr>\n",
       "      <th>date_gmt</th>\n",
       "      <th></th>\n",
       "      <th></th>\n",
       "      <th></th>\n",
       "      <th></th>\n",
       "      <th></th>\n",
       "      <th></th>\n",
       "      <th></th>\n",
       "      <th></th>\n",
       "    </tr>\n",
       "  </thead>\n",
       "  <tbody>\n",
       "    <tr>\n",
       "      <th>2019-12-01</th>\n",
       "      <td>Los Angeles</td>\n",
       "      <td>1103</td>\n",
       "      <td>4.0</td>\n",
       "      <td>34.06659</td>\n",
       "      <td>-118.22688</td>\n",
       "      <td>16:00</td>\n",
       "      <td>00:00</td>\n",
       "      <td>2020-03-31</td>\n",
       "    </tr>\n",
       "    <tr>\n",
       "      <th>2019-12-01</th>\n",
       "      <td>Los Angeles</td>\n",
       "      <td>4004</td>\n",
       "      <td>1.9</td>\n",
       "      <td>33.79236</td>\n",
       "      <td>-118.17533</td>\n",
       "      <td>16:00</td>\n",
       "      <td>00:00</td>\n",
       "      <td>2020-03-31</td>\n",
       "    </tr>\n",
       "    <tr>\n",
       "      <th>2019-12-01</th>\n",
       "      <td>Los Angeles</td>\n",
       "      <td>6012</td>\n",
       "      <td>5.7</td>\n",
       "      <td>34.38344</td>\n",
       "      <td>-118.52840</td>\n",
       "      <td>16:00</td>\n",
       "      <td>00:00</td>\n",
       "      <td>2020-03-25</td>\n",
       "    </tr>\n",
       "    <tr>\n",
       "      <th>2019-12-01</th>\n",
       "      <td>Los Angeles</td>\n",
       "      <td>16</td>\n",
       "      <td>6.1</td>\n",
       "      <td>34.14435</td>\n",
       "      <td>-117.85036</td>\n",
       "      <td>16:00</td>\n",
       "      <td>00:00</td>\n",
       "      <td>2020-03-24</td>\n",
       "    </tr>\n",
       "    <tr>\n",
       "      <th>2019-12-01</th>\n",
       "      <td>Los Angeles</td>\n",
       "      <td>1201</td>\n",
       "      <td>13.0</td>\n",
       "      <td>34.19925</td>\n",
       "      <td>-118.53276</td>\n",
       "      <td>16:00</td>\n",
       "      <td>00:00</td>\n",
       "      <td>2020-03-25</td>\n",
       "    </tr>\n",
       "    <tr>\n",
       "      <th>...</th>\n",
       "      <td>...</td>\n",
       "      <td>...</td>\n",
       "      <td>...</td>\n",
       "      <td>...</td>\n",
       "      <td>...</td>\n",
       "      <td>...</td>\n",
       "      <td>...</td>\n",
       "      <td>...</td>\n",
       "    </tr>\n",
       "    <tr>\n",
       "      <th>2019-12-02</th>\n",
       "      <td>Los Angeles</td>\n",
       "      <td>1103</td>\n",
       "      <td>12.0</td>\n",
       "      <td>34.06659</td>\n",
       "      <td>-118.22688</td>\n",
       "      <td>23:00</td>\n",
       "      <td>07:00</td>\n",
       "      <td>2020-03-31</td>\n",
       "    </tr>\n",
       "    <tr>\n",
       "      <th>2019-12-02</th>\n",
       "      <td>Los Angeles</td>\n",
       "      <td>4004</td>\n",
       "      <td>24.9</td>\n",
       "      <td>33.79236</td>\n",
       "      <td>-118.17533</td>\n",
       "      <td>23:00</td>\n",
       "      <td>07:00</td>\n",
       "      <td>2020-03-31</td>\n",
       "    </tr>\n",
       "    <tr>\n",
       "      <th>2019-12-02</th>\n",
       "      <td>Los Angeles</td>\n",
       "      <td>6012</td>\n",
       "      <td>12.8</td>\n",
       "      <td>34.38344</td>\n",
       "      <td>-118.52840</td>\n",
       "      <td>23:00</td>\n",
       "      <td>07:00</td>\n",
       "      <td>2020-03-25</td>\n",
       "    </tr>\n",
       "    <tr>\n",
       "      <th>2019-12-02</th>\n",
       "      <td>Los Angeles</td>\n",
       "      <td>16</td>\n",
       "      <td>3.0</td>\n",
       "      <td>34.14435</td>\n",
       "      <td>-117.85036</td>\n",
       "      <td>23:00</td>\n",
       "      <td>07:00</td>\n",
       "      <td>2020-03-24</td>\n",
       "    </tr>\n",
       "    <tr>\n",
       "      <th>2019-12-02</th>\n",
       "      <td>Los Angeles</td>\n",
       "      <td>1201</td>\n",
       "      <td>32.3</td>\n",
       "      <td>34.19925</td>\n",
       "      <td>-118.53276</td>\n",
       "      <td>23:00</td>\n",
       "      <td>07:00</td>\n",
       "      <td>2020-03-25</td>\n",
       "    </tr>\n",
       "  </tbody>\n",
       "</table>\n",
       "<p>158 rows × 8 columns</p>\n",
       "</div>"
      ],
      "text/plain": [
       "                 county  site_number  sample_measurement  latitude  longitude  \\\n",
       "date_gmt                                                                        \n",
       "2019-12-01  Los Angeles         1103                 4.0  34.06659 -118.22688   \n",
       "2019-12-01  Los Angeles         4004                 1.9  33.79236 -118.17533   \n",
       "2019-12-01  Los Angeles         6012                 5.7  34.38344 -118.52840   \n",
       "2019-12-01  Los Angeles           16                 6.1  34.14435 -117.85036   \n",
       "2019-12-01  Los Angeles         1201                13.0  34.19925 -118.53276   \n",
       "...                 ...          ...                 ...       ...        ...   \n",
       "2019-12-02  Los Angeles         1103                12.0  34.06659 -118.22688   \n",
       "2019-12-02  Los Angeles         4004                24.9  33.79236 -118.17533   \n",
       "2019-12-02  Los Angeles         6012                12.8  34.38344 -118.52840   \n",
       "2019-12-02  Los Angeles           16                 3.0  34.14435 -117.85036   \n",
       "2019-12-02  Los Angeles         1201                32.3  34.19925 -118.53276   \n",
       "\n",
       "           time_local time_gmt date_of_last_change  \n",
       "date_gmt                                            \n",
       "2019-12-01      16:00    00:00          2020-03-31  \n",
       "2019-12-01      16:00    00:00          2020-03-31  \n",
       "2019-12-01      16:00    00:00          2020-03-25  \n",
       "2019-12-01      16:00    00:00          2020-03-24  \n",
       "2019-12-01      16:00    00:00          2020-03-25  \n",
       "...               ...      ...                 ...  \n",
       "2019-12-02      23:00    07:00          2020-03-31  \n",
       "2019-12-02      23:00    07:00          2020-03-31  \n",
       "2019-12-02      23:00    07:00          2020-03-25  \n",
       "2019-12-02      23:00    07:00          2020-03-24  \n",
       "2019-12-02      23:00    07:00          2020-03-25  \n",
       "\n",
       "[158 rows x 8 columns]"
      ]
     },
     "execution_count": 48,
     "metadata": {},
     "output_type": "execute_result"
    }
   ],
   "source": [
    "# End of the year Winter\n",
    "# Sort by date_gmt and time_gmt\n",
    "winter_end_ca_la = ca_la_clean_data['2019-12-01':'2019-12'].sort_values([\"date_gmt\", \"time_gmt\"])\n",
    "winter_end_ca_la"
   ]
  },
  {
   "cell_type": "code",
   "execution_count": null,
   "metadata": {},
   "outputs": [],
   "source": []
  }
 ],
 "metadata": {
  "kernelspec": {
   "display_name": "Python 3",
   "language": "python",
   "name": "python3"
  },
  "language_info": {
   "codemirror_mode": {
    "name": "ipython",
    "version": 3
   },
   "file_extension": ".py",
   "mimetype": "text/x-python",
   "name": "python",
   "nbconvert_exporter": "python",
   "pygments_lexer": "ipython3",
   "version": "3.7.7"
  }
 },
 "nbformat": 4,
 "nbformat_minor": 4
}
