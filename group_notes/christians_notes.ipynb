{
 "cells": [
  {
   "cell_type": "code",
   "execution_count": 4,
   "metadata": {},
   "outputs": [],
   "source": [
    "# Dependencies and Setup\n",
    "import matplotlib.pyplot as plt\n",
    "import pandas as pd\n",
    "import numpy as np\n",
    "import time\n",
    "from scipy.stats import linregress\n",
    "from pprint import pprint\n",
    "import requests\n",
    "import datetime\n",
    "import scipy.stats as stats\n",
    "import math\n",
    "\n",
    "# Import API key\n",
    "from config import key\n",
    "from config import email_key"
   ]
  },
  {
   "cell_type": "code",
   "execution_count": 5,
   "metadata": {
    "collapsed": true
   },
   "outputs": [
    {
     "data": {
      "text/plain": [
       "{'Header': [{'status': 'Success',\n",
       "   'request_time': '2020-05-09T14:17:38-04:00',\n",
       "   'url': 'https://aqs.epa.gov/data/api/list/countiesByState?email=chrispompaemail@gmail.com&key=saffroncrane48&state=06',\n",
       "   'rows': 58}],\n",
       " 'Data': [{'code': '001', 'value_represented': 'Alameda'},\n",
       "  {'code': '003', 'value_represented': 'Alpine'},\n",
       "  {'code': '005', 'value_represented': 'Amador'},\n",
       "  {'code': '007', 'value_represented': 'Butte'},\n",
       "  {'code': '009', 'value_represented': 'Calaveras'},\n",
       "  {'code': '011', 'value_represented': 'Colusa'},\n",
       "  {'code': '013', 'value_represented': 'Contra Costa'},\n",
       "  {'code': '015', 'value_represented': 'Del Norte'},\n",
       "  {'code': '017', 'value_represented': 'El Dorado'},\n",
       "  {'code': '019', 'value_represented': 'Fresno'},\n",
       "  {'code': '021', 'value_represented': 'Glenn'},\n",
       "  {'code': '023', 'value_represented': 'Humboldt'},\n",
       "  {'code': '025', 'value_represented': 'Imperial'},\n",
       "  {'code': '027', 'value_represented': 'Inyo'},\n",
       "  {'code': '029', 'value_represented': 'Kern'},\n",
       "  {'code': '031', 'value_represented': 'Kings'},\n",
       "  {'code': '033', 'value_represented': 'Lake'},\n",
       "  {'code': '035', 'value_represented': 'Lassen'},\n",
       "  {'code': '037', 'value_represented': 'Los Angeles'},\n",
       "  {'code': '039', 'value_represented': 'Madera'},\n",
       "  {'code': '041', 'value_represented': 'Marin'},\n",
       "  {'code': '043', 'value_represented': 'Mariposa'},\n",
       "  {'code': '045', 'value_represented': 'Mendocino'},\n",
       "  {'code': '047', 'value_represented': 'Merced'},\n",
       "  {'code': '049', 'value_represented': 'Modoc'},\n",
       "  {'code': '051', 'value_represented': 'Mono'},\n",
       "  {'code': '053', 'value_represented': 'Monterey'},\n",
       "  {'code': '055', 'value_represented': 'Napa'},\n",
       "  {'code': '057', 'value_represented': 'Nevada'},\n",
       "  {'code': '059', 'value_represented': 'Orange'},\n",
       "  {'code': '061', 'value_represented': 'Placer'},\n",
       "  {'code': '063', 'value_represented': 'Plumas'},\n",
       "  {'code': '065', 'value_represented': 'Riverside'},\n",
       "  {'code': '067', 'value_represented': 'Sacramento'},\n",
       "  {'code': '069', 'value_represented': 'San Benito'},\n",
       "  {'code': '071', 'value_represented': 'San Bernardino'},\n",
       "  {'code': '073', 'value_represented': 'San Diego'},\n",
       "  {'code': '075', 'value_represented': 'San Francisco'},\n",
       "  {'code': '077', 'value_represented': 'San Joaquin'},\n",
       "  {'code': '079', 'value_represented': 'San Luis Obispo'},\n",
       "  {'code': '081', 'value_represented': 'San Mateo'},\n",
       "  {'code': '083', 'value_represented': 'Santa Barbara'},\n",
       "  {'code': '085', 'value_represented': 'Santa Clara'},\n",
       "  {'code': '087', 'value_represented': 'Santa Cruz'},\n",
       "  {'code': '089', 'value_represented': 'Shasta'},\n",
       "  {'code': '091', 'value_represented': 'Sierra'},\n",
       "  {'code': '093', 'value_represented': 'Siskiyou'},\n",
       "  {'code': '095', 'value_represented': 'Solano'},\n",
       "  {'code': '097', 'value_represented': 'Sonoma'},\n",
       "  {'code': '099', 'value_represented': 'Stanislaus'},\n",
       "  {'code': '101', 'value_represented': 'Sutter'},\n",
       "  {'code': '103', 'value_represented': 'Tehama'},\n",
       "  {'code': '105', 'value_represented': 'Trinity'},\n",
       "  {'code': '107', 'value_represented': 'Tulare'},\n",
       "  {'code': '109', 'value_represented': 'Tuolumne'},\n",
       "  {'code': '111', 'value_represented': 'Ventura'},\n",
       "  {'code': '113', 'value_represented': 'Yolo'},\n",
       "  {'code': '115', 'value_represented': 'Yuba'}]}"
      ]
     },
     "execution_count": 5,
     "metadata": {},
     "output_type": "execute_result"
    }
   ],
   "source": [
    "# State number 6 is California. States are in alphabetical order\n",
    "# Get list of counties in States\n",
    "\n",
    "state_num='06'\n",
    "response = requests.get(f'https://aqs.epa.gov/data/api/list/countiesByState?email={email_key}&key={key}&state={state_num}')\n",
    "# extract results\n",
    "results = response.json()\n",
    "results"
   ]
  },
  {
   "cell_type": "code",
   "execution_count": null,
   "metadata": {},
   "outputs": [],
   "source": [
    "from urllib.request import urlretrieve\n",
    "from urllib.parse import quote\n",
    "\n",
    "# Create defaults\n",
    "base_url = 'https://aqs.epa.gov/data/api/sampleData/byCounty?'\n",
    "city = 'Los Angeles'\n",
    "params_air = {\n",
    "    'email': email_key,\n",
    "    'key': key,\n",
    "    'param': (88101,88502),\n",
    "    'bdate': '20190101',\n",
    "    'edate': '20191201',\n",
    "    'state': '06',\n",
    "    'county': '037'\n",
    "}"
   ]
  },
  {
   "cell_type": "code",
   "execution_count": null,
   "metadata": {},
   "outputs": [],
   "source": []
  },
  {
   "cell_type": "code",
   "execution_count": null,
   "metadata": {},
   "outputs": [],
   "source": []
  }
 ],
 "metadata": {
  "kernelspec": {
   "display_name": "Python 3",
   "language": "python",
   "name": "python3"
  },
  "language_info": {
   "codemirror_mode": {
    "name": "ipython",
    "version": 3
   },
   "file_extension": ".py",
   "mimetype": "text/x-python",
   "name": "python",
   "nbconvert_exporter": "python",
   "pygments_lexer": "ipython3",
   "version": "3.7.7"
  }
 },
 "nbformat": 4,
 "nbformat_minor": 4
}
