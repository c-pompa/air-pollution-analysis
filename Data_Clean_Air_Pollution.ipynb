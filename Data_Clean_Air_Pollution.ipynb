{
 "cells": [
  {
   "cell_type": "markdown",
   "metadata": {},
   "source": [
    "# Data Retreval and Cleanup Process - Air Pollution"
   ]
  },
  {
   "cell_type": "markdown",
   "metadata": {},
   "source": [
    "## Table of Contents<br>\n",
    "* [Retrieving and Clean Data - AQS.EPA.GOV](#aqs)\n",
    "* [Next set](#nextset)\n",
    "* [Next set](#nextset)\n",
    "\n",
    "----"
   ]
  },
  {
   "cell_type": "markdown",
   "metadata": {},
   "source": [
    "### Retrieving and Clean Data - AQS.EPA.GOV"
   ]
  },
  {
   "cell_type": "markdown",
   "metadata": {},
   "source": [
    "Air pollution data will be filtered to only retrieve information we will use. The json will be saved to a .CSV and analyzed in other notebooks.<br><br>\n",
    "A function was created with the objective to acquire the dataset by passing specific parameters required for the API. The API request specific state and county numbers, as well as the api key, begin date, end date, and param code. The function requires a state code (ie: '06'), county code (ie: '037'), and a state ('California'). All paramters in string formatting.\n",
    "\n",
    "A tuple, '[(\"06\", \"037\", \"California\")]', is passed under the variable state_countiesinto the function 'StateCountySampleDataDF(state_counties, params_air, dict_state_county_df)'. The function returns a dictionary of DataFrames. Each DataFrame is named by the tuple passed, 'dict_state_county_df['df_California_06_037']'."
   ]
  },
  {
   "cell_type": "markdown",
   "metadata": {},
   "source": [
    "<img src=\"./annual_seasonal_notebooks/images/dataclean.png\" alt=\"laair\"\n",
    "title=\"LA Air\" width=\"500\" height=\"300\" /> "
   ]
  },
  {
   "cell_type": "markdown",
   "metadata": {},
   "source": [
    "After the dict is created and verified for content, it is saved as a .csv."
   ]
  },
  {
   "cell_type": "markdown",
   "metadata": {},
   "source": [
    "<img src=\"./annual_seasonal_notebooks/images/save_to_dict.png\" alt=\"laair\"\n",
    "title=\"LA Air\" width=\"500\" height=\"300\" /> "
   ]
  },
  {
   "cell_type": "code",
   "execution_count": null,
   "metadata": {},
   "outputs": [],
   "source": []
  }
 ],
 "metadata": {
  "kernelspec": {
   "display_name": "Python 3",
   "language": "python",
   "name": "python3"
  },
  "language_info": {
   "codemirror_mode": {
    "name": "ipython",
    "version": 3
   },
   "file_extension": ".py",
   "mimetype": "text/x-python",
   "name": "python",
   "nbconvert_exporter": "python",
   "pygments_lexer": "ipython3",
   "version": "3.7.7"
  }
 },
 "nbformat": 4,
 "nbformat_minor": 4
}
